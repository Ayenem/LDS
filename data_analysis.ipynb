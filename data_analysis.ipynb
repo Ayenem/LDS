{
 "cells": [
  {
   "cell_type": "code",
   "execution_count": 1,
   "id": "5ad6644b",
   "metadata": {},
   "outputs": [],
   "source": [
    "from pathlib import Path\n",
    "from book_loader import BookLoader\n",
    "import pandas as pd\n",
    "import matplotlib.pyplot as plt\n",
    "import re\n",
    "import json\n",
    "from spacy.lang.fr.stop_words import STOP_WORDS as fr_stop"
   ]
  },
  {
   "cell_type": "code",
   "execution_count": 2,
   "id": "5acdf0f6",
   "metadata": {},
   "outputs": [],
   "source": [
    "with open('parameters.json', 'r', encoding=\"utf-8\") as json_file:\n",
    "    params = json.load(json_file)\n",
    "\n",
    "book = BookLoader(**params)\n",
    "\n",
    "observed_lengths = [len(c) for c in book.chapters]\n",
    "expected_lengths = [43, 101, 152, 136, 271, 307, 23]\n",
    "\n",
    "chapters: list[list[str]] = book.chapters"
   ]
  },
  {
   "cell_type": "code",
   "execution_count": 3,
   "id": "a8054c40",
   "metadata": {
    "scrolled": false
   },
   "outputs": [
    {
     "data": {
      "text/html": [
       "<style type=\"text/css\">\n",
       "</style>\n",
       "<table id=\"T_c7ba7\">\n",
       "  <thead>\n",
       "    <tr>\n",
       "      <th id=\"T_c7ba7_level0_col0\" class=\"col_heading level0 col0\" >chapters</th>\n",
       "      <th id=\"T_c7ba7_level0_col1\" class=\"col_heading level0 col1\" >words</th>\n",
       "      <th id=\"T_c7ba7_level0_col2\" class=\"col_heading level0 col2\" >unique_words</th>\n",
       "      <th id=\"T_c7ba7_level0_col3\" class=\"col_heading level0 col3\" >stop_words</th>\n",
       "    </tr>\n",
       "  </thead>\n",
       "  <tbody>\n",
       "    <tr>\n",
       "      <td id=\"T_c7ba7_row0_col0\" class=\"data row0 col0\" >0</td>\n",
       "      <td id=\"T_c7ba7_row0_col1\" class=\"data row0 col1\" >4611</td>\n",
       "      <td id=\"T_c7ba7_row0_col2\" class=\"data row0 col2\" >1733</td>\n",
       "      <td id=\"T_c7ba7_row0_col3\" class=\"data row0 col3\" >2105</td>\n",
       "    </tr>\n",
       "    <tr>\n",
       "      <td id=\"T_c7ba7_row1_col0\" class=\"data row1 col0\" >1</td>\n",
       "      <td id=\"T_c7ba7_row1_col1\" class=\"data row1 col1\" >7270</td>\n",
       "      <td id=\"T_c7ba7_row1_col2\" class=\"data row1 col2\" >2339</td>\n",
       "      <td id=\"T_c7ba7_row1_col3\" class=\"data row1 col3\" >3335</td>\n",
       "    </tr>\n",
       "    <tr>\n",
       "      <td id=\"T_c7ba7_row2_col0\" class=\"data row2 col0\" >2</td>\n",
       "      <td id=\"T_c7ba7_row2_col1\" class=\"data row2 col1\" >10104</td>\n",
       "      <td id=\"T_c7ba7_row2_col2\" class=\"data row2 col2\" >2987</td>\n",
       "      <td id=\"T_c7ba7_row2_col3\" class=\"data row2 col3\" >4518</td>\n",
       "    </tr>\n",
       "    <tr>\n",
       "      <td id=\"T_c7ba7_row3_col0\" class=\"data row3 col0\" >3</td>\n",
       "      <td id=\"T_c7ba7_row3_col1\" class=\"data row3 col1\" >10565</td>\n",
       "      <td id=\"T_c7ba7_row3_col2\" class=\"data row3 col2\" >3233</td>\n",
       "      <td id=\"T_c7ba7_row3_col3\" class=\"data row3 col3\" >4798</td>\n",
       "    </tr>\n",
       "    <tr>\n",
       "      <td id=\"T_c7ba7_row4_col0\" class=\"data row4 col0\" >4</td>\n",
       "      <td id=\"T_c7ba7_row4_col1\" class=\"data row4 col1\" >13234</td>\n",
       "      <td id=\"T_c7ba7_row4_col2\" class=\"data row4 col2\" >4055</td>\n",
       "      <td id=\"T_c7ba7_row4_col3\" class=\"data row4 col3\" >6168</td>\n",
       "    </tr>\n",
       "    <tr>\n",
       "      <td id=\"T_c7ba7_row5_col0\" class=\"data row5 col0\" >5</td>\n",
       "      <td id=\"T_c7ba7_row5_col1\" class=\"data row5 col1\" >14365</td>\n",
       "      <td id=\"T_c7ba7_row5_col2\" class=\"data row5 col2\" >3947</td>\n",
       "      <td id=\"T_c7ba7_row5_col3\" class=\"data row5 col3\" >6530</td>\n",
       "    </tr>\n",
       "    <tr>\n",
       "      <td id=\"T_c7ba7_row6_col0\" class=\"data row6 col0\" >6</td>\n",
       "      <td id=\"T_c7ba7_row6_col1\" class=\"data row6 col1\" >1641</td>\n",
       "      <td id=\"T_c7ba7_row6_col2\" class=\"data row6 col2\" >744</td>\n",
       "      <td id=\"T_c7ba7_row6_col3\" class=\"data row6 col3\" >783</td>\n",
       "    </tr>\n",
       "  </tbody>\n",
       "</table>\n"
      ],
      "text/plain": [
       "<pandas.io.formats.style.Styler at 0x7f42aefbbd90>"
      ]
     },
     "execution_count": 3,
     "metadata": {},
     "output_type": "execute_result"
    }
   ],
   "source": [
    "df = pd.DataFrame(data={\"chapters\": range(len(chapters))})\n",
    "\n",
    "def count_words(i):\n",
    "    return sum(map(lambda p: len(p.split()), chapters[i]))\n",
    "\n",
    "df[\"words\"] = df[\"chapters\"].apply(count_words)\n",
    "                      \n",
    "\n",
    "def count_unique_words(i):\n",
    "    return len(set('\\n'.join(chapters[i]).split()))\n",
    "\n",
    "df[\"unique_words\"] = df[\"chapters\"].apply(count_unique_words)\n",
    "\n",
    "\n",
    "def count_stop_words(p):\n",
    "    return sum(1 for w in p.split() if w in fr_stop)\n",
    "\n",
    "df[\"stop_words\"] = df[\"chapters\"].apply(\n",
    "    lambda i: sum(map(count_stop_words, chapters[i])))\n",
    "\n",
    "\n",
    "# def count_bisections(p):\n",
    "#     return len(bisection_pat.findall(p))\n",
    "\n",
    "# bisection_pat = re.compile(r\"([A-Za-z]+)-\\s([A-Za-z]+)\")\n",
    "# df[\"bisected_words\"] = df[\"chapters\"].apply(\n",
    "#     lambda i: sum(map(count_bisections, chapters[i])))\n",
    "\n",
    "\n",
    "df.style.hide(axis='index')"
   ]
  },
  {
   "cell_type": "code",
   "execution_count": 4,
   "id": "62714e3a",
   "metadata": {},
   "outputs": [
    {
     "data": {
      "image/png": "[encoded data removed]",
      "text/plain": [
       "<Figure size 432x288 with 1 Axes>"
      ]
     },
     "metadata": {
      "needs_background": "light"
     },
     "output_type": "display_data"
    }
   ],
   "source": [
    "bar_plot = df.iloc[:, 1:].plot.bar(xlabel=\"Chapters\", ylabel=\"Count\")\n",
    "plt.legend(loc='best', labelspacing=0.1)\n",
    "fig = plt.gcf()"
   ]
  },
  {
   "cell_type": "code",
   "execution_count": 5,
   "id": "9d5dc44e",
   "metadata": {},
   "outputs": [],
   "source": [
    "fig.savefig(\"stats.jpg\")"
   ]
  }
 ],
 "metadata": {
  "kernelspec": {
   "display_name": "Python 3 (ipykernel)",
   "language": "python",
   "name": "python3"
  },
  "language_info": {
   "codemirror_mode": {
    "name": "ipython",
    "version": 3
   },
   "file_extension": ".py",
   "mimetype": "text/x-python",
   "name": "python",
   "nbconvert_exporter": "python",
   "pygments_lexer": "ipython3",
   "version": "3.10.5"
  }
 },
 "nbformat": 4,
 "nbformat_minor": 5
}
