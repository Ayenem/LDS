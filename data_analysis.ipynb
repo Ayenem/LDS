{
 "cells": [
  {
   "cell_type": "code",
   "execution_count": 3,
   "id": "5ad6644b",
   "metadata": {},
   "outputs": [
    {
     "data": {
      "text/plain": [
       "True"
      ]
     },
     "execution_count": 3,
     "metadata": {},
     "output_type": "execute_result"
    }
   ],
   "source": [
    "from pathlib import Path\n",
    "from book_loader import BookLoader\n",
    "from typing import Dict, List\n",
    "import pandas as pd\n",
    "\n",
    "import spacy\n",
    "from spacy.lang.fr.stop_words import STOP_WORDS as fr_stop\n",
    "spacy.prefer_gpu()"
   ]
  },
  {
   "cell_type": "code",
   "execution_count": null,
   "id": "fe1caeee",
   "metadata": {},
   "outputs": [],
   "source": [
    "data_path = Path(\"data/D5627-Dolan.docx\").expanduser().resolve()\n",
    "assert data_path.exists()"
   ]
  },
  {
   "cell_type": "code",
   "execution_count": null,
   "id": "86a83746",
   "metadata": {},
   "outputs": [],
   "source": [
    "book = BookLoader(data_path)\n",
    "chapters: Dict[int, List[str]] = book.chapters"
   ]
  },
  {
   "cell_type": "code",
   "execution_count": null,
   "id": "2dfb4d91",
   "metadata": {},
   "outputs": [],
   "source": [
    "chapters.keys()"
   ]
  },
  {
   "cell_type": "code",
   "execution_count": null,
   "id": "5c38f719",
   "metadata": {
    "scrolled": true
   },
   "outputs": [],
   "source": [
    "chapters[0]"
   ]
  },
  {
   "cell_type": "code",
   "execution_count": null,
   "id": "f3ab403a",
   "metadata": {},
   "outputs": [],
   "source": [
    "chapters_without_tables = {\n",
    "    i: list(filter(lambda p: isinstance(p, str), chap))\n",
    "    for i, chap in chapters.items()}"
   ]
  },
  {
   "cell_type": "code",
   "execution_count": null,
   "id": "a8054c40",
   "metadata": {},
   "outputs": [],
   "source": [
    "df = pd.DataFrame(data={\"chapters\": chapters_without_tables.keys()})\n",
    "\n",
    "df[\"words_count\"] = df[\"chapters\"].apply(\n",
    "    lambda i: sum(map(lambda p: len(p.split()) if isinstance(p, str) else 0,\n",
    "                      chapters_without_tables[i])))\n",
    "\n",
    "df[\"unique_words_count\"] = df[\"chapters\"].apply(\n",
    "    lambda i: len(set('\\n'.join(chapters_without_tables[i]).split())))\n",
    "\n",
    "df[\"stop_words_count\"] = df[\"chapters\"].apply(\n",
    "    lambda i: sum(map(lambda p: sum(1 for w in p.split() if w in fr_stop)\n",
    "                      if isinstance(p, str) else 0,\n",
    "                      chapters_without_tables[i])))\n",
    "\n",
    "df.style.hide(axis='index')"
   ]
  },
  {
   "cell_type": "code",
   "execution_count": null,
   "id": "79bfa6fb",
   "metadata": {},
   "outputs": [],
   "source": [
    "# TODO: Visualize stats as graphs"
   ]
  }
 ],
 "metadata": {
  "kernelspec": {
   "display_name": "Python 3 (ipykernel)",
   "language": "python",
   "name": "python3"
  },
  "language_info": {
   "codemirror_mode": {
    "name": "ipython",
    "version": 3
   },
   "file_extension": ".py",
   "mimetype": "text/x-python",
   "name": "python",
   "nbconvert_exporter": "python",
   "pygments_lexer": "ipython3",
   "version": "3.10.4"
  }
 },
 "nbformat": 4,
 "nbformat_minor": 5
}
