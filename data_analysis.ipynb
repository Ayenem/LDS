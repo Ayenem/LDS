{
 "cells": [
  {
   "cell_type": "code",
   "execution_count": 1,
   "id": "5ad6644b",
   "metadata": {},
   "outputs": [],
   "source": [
    "import re"
   ]
  },
  {
   "cell_type": "code",
   "execution_count": 33,
   "id": "86a83746",
   "metadata": {},
   "outputs": [],
   "source": [
    "# regex_marker = r\"Chapitre ([0-9]|[1-9][1-9]) /\"\n",
    "regex_marker = r\"Chapitre (\\d+) /\"\n",
    "pat = re.compile(regex_marker)"
   ]
  },
  {
   "cell_type": "code",
   "execution_count": 15,
   "id": "186b151f",
   "metadata": {},
   "outputs": [],
   "source": [
    "p1 = \"aaa\"\n",
    "p2 = \"Chapitre 2 /\"\n",
    "p3 = [{p1: p1}]\n",
    "p4 = \"Chapitre 44 /\""
   ]
  },
  {
   "cell_type": "code",
   "execution_count": 54,
   "id": "439e1344",
   "metadata": {},
   "outputs": [],
   "source": [
    "def call(p):\n",
    "    if isinstance(p, str) and (found_pat := pat.search(p)):\n",
    "        return found_pat.group(1)\n",
    "    return False"
   ]
  },
  {
   "cell_type": "code",
   "execution_count": 55,
   "id": "f4f2974c",
   "metadata": {},
   "outputs": [
    {
     "name": "stdout",
     "output_type": "stream",
     "text": [
      "False\n",
      "2\n",
      "False\n",
      "44\n"
     ]
    }
   ],
   "source": [
    "print(call(p1))\n",
    "print(call(p2))\n",
    "print(call(p3))\n",
    "print(call(p4))"
   ]
  }
 ],
 "metadata": {
  "kernelspec": {
   "display_name": "Python 3 (ipykernel)",
   "language": "python",
   "name": "python3"
  },
  "language_info": {
   "codemirror_mode": {
    "name": "ipython",
    "version": 3
   },
   "file_extension": ".py",
   "mimetype": "text/x-python",
   "name": "python",
   "nbconvert_exporter": "python",
   "pygments_lexer": "ipython3",
   "version": "3.9.12"
  }
 },
 "nbformat": 4,
 "nbformat_minor": 5
}
