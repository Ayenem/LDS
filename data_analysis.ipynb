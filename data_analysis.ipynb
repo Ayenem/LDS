{
 "cells": [
  {
   "cell_type": "code",
   "execution_count": 1,
   "id": "5ad6644b",
   "metadata": {},
   "outputs": [
    {
     "data": {
      "text/plain": [
       "True"
      ]
     },
     "execution_count": 1,
     "metadata": {},
     "output_type": "execute_result"
    }
   ],
   "source": [
    "from pathlib import Path\n",
    "from book_loader import BookLoader\n",
    "from typing import Dict, List\n",
    "import pandas as pd\n",
    "import matplotlib.pyplot as plt\n",
    "\n",
    "import spacy\n",
    "from spacy.lang.fr.stop_words import STOP_WORDS as fr_stop\n",
    "spacy.prefer_gpu()"
   ]
  },
  {
   "cell_type": "code",
   "execution_count": 2,
   "id": "fe1caeee",
   "metadata": {},
   "outputs": [],
   "source": [
    "data_path = Path(\"data/D5627-Dolan.docx\").expanduser().resolve()\n",
    "assert data_path.exists()"
   ]
  },
  {
   "cell_type": "code",
   "execution_count": 3,
   "id": "86a83746",
   "metadata": {},
   "outputs": [
    {
     "name": "stderr",
     "output_type": "stream",
     "text": [
      "/home/ahmedm/anaconda3/envs/LDS/lib/python3.10/site-packages/simplify_docx/iterators/generic.py:193: UnexpectedElementWarning: Skipping unexpected tag: {http://schemas.openxmlformats.org/wordprocessingml/2006/main}pict\n",
      "  warn(\"Skipping unexpected tag: %s\" % (current.tag),\n"
     ]
    }
   ],
   "source": [
    "book = BookLoader(data_path)\n",
    "chapters: Dict[int, List[str]] = book.chapters"
   ]
  },
  {
   "cell_type": "code",
   "execution_count": 4,
   "id": "2dfb4d91",
   "metadata": {},
   "outputs": [
    {
     "data": {
      "text/plain": [
       "dict_keys([0, 1, 2, 3, 4, 5])"
      ]
     },
     "execution_count": 4,
     "metadata": {},
     "output_type": "execute_result"
    }
   ],
   "source": [
    "chapters.keys()"
   ]
  },
  {
   "cell_type": "code",
   "execution_count": 5,
   "id": "5c38f719",
   "metadata": {
    "scrolled": true
   },
   "outputs": [
    {
     "data": {
      "text/plain": [
       "[\"Nous croyons que cette nouvelle édition paraît à point nommé, car le monde organisationnel est soumis à des exigences de productivité historiques, exigences qui demeurent, faut-il l'admettre, complexes à conjuguer avec une promotion et un soutien de la santé psychologique au travail. Si certains cadres envisagent stratégiquement d'accroître la productivité qualitative et quantitative de leur personnel en les poussant à la limite de leurs capacités, trop souvent ces mêmes gestionnaires ont de la difficulté à entrevoir les effets humains collatéraux de cette quête productiviste. Ils ne voient pas (ou simplement, sous-estiment) l'incidence directe qu'a sur leur propre vie et leur santé les pressions psychologiques qu'ils subissent ainsi que celles qu'ils font conséquemment subir à leur équipe de travail. Il serait évidemment utopique d'espérer aujourd'hui rencontrer des contextes de travail exempts de toutes formes de stress. Le père du stress, Hans Selye, l'exprimait assez simplement lorsqu'il mentionnait que seule la mort nous libère complètement du stress, ce qui naturellement s'applique par extension à la réalité organisationnelle. Cependant, force est de reconnaître que les facteurs de stress semblent prendre de plus en plus de place, soit par un manque de stimulation ou trop souvent par une hyperstimulation qu'on associe à une surcharge de travail. Sous un angle ou l'autre, la question qui prime est celle de l'adaptation et de la nécessaire adéquation entre les conditions de travail et la santé psychologique des travailleurs.\",\n",
       " \"Ces transformations du monde du travail s'accompagnent de phénomènes mondiaux que peu auraient pu stratégiquement prévoir et qui touchent maintenant de façon directe et significative la capacité d'adaptation des individus et des organisations. Que l'on pense à la crise environnementale qui crée de nouveaux enjeux socio-organisationnels et réglementaires ou encore aux défis qu'occasionnent les crises sanitaires\",\n",
       " \"(p. ex. pandémies) qui bousculent profondément le fonctionnement des sociétés et des organisations. De tels phénomènes globaux remettent en question l'ordre établi et forcent les organisations et les individus qui les composent à faire preuve d'une flexibilité et d'une adaptabilité sans pré- cédent. Bien que le stress vécu par les personnes demeure majoritairement issu des sources organisationnelles, il importe de plus en plus de considérer l'ensemble des autres sources de stress qui surcharge la capacité adaptative afin de brosser un portrait global de la santé psychologique au travail.\",\n",
       " \"Force est de reconnaître qu'un niveau de stress élevé entraîne habituellement un fléchissement de la performance. Bien que la réalité soit souvent plus nuancée, la pression au travail oblige le travailleur à fournir un surcroît d'effort et d'attention pour réaliser une tâche sans pour autant garantir la réussite. Pour répéter un stéréotype bien connu, on peut être un surhomme ou une surfemme pendant une journée, une semaine, voire un mois, mais cela est impossible pendant une année sans hypothéquer sérieusement sa capacité adaptative. Les efforts surhumains déployés continuellement par les employés entraînent inévitablement un déséquilibre physique ou psychologique qui se solde à moyenne échéance par un état de santé altéré. Un stress excessif subi au travail se répercute aussi dans la vie à l'extérieur du milieu de travail, suscitant une baisse de l'énergie et rendant pratiquement impossible l'atteinte de l'équilibre entre le travail et la vie privée. D'où l'importance cruciale de bien gérer les charges de travail et les autres exigences génératrices de stress dans l'environnement professionnel.\",\n",
       " \"L'estime de soi est l'un des paramètres individuels qui peut servir à expliquer la sensibilité au stress et les capacités de résistance fort variables de chacun. En effet, le niveau d'estime de soi varie d'une personne à l'autre, et des auteurs font un lien entre des lacunes sur le plan de l'estime de soi et le stress professionnel. D'après nos expériences qui reposent sur des centaines d'entrevues avec des gestionnaires et des professionnels d'organisations variées établies un peu partout dans le monde, le manque d'estime de soi produit inévitablement un surcroît de stress parce que l'insécurité qui l'accompagne structure la perception de l'environnement. En outre, il arrive souvent que l'environnement de l'entreprise lui-même mine l'estime de soi des travailleurs ou mène à des conflits d'origine émotionnelle, lesquels sont à leur tour une source de stress. Les personnes pourvues d'une saine estime de soi s'en tirent ainsi souvent mieux dans de telles circonstances.\",\n",
       " \"Les constats qui précèdent définissent les balises du présent ouvrage. Nous désirons proposer des modèles conceptuels et pratiques permettant de relever l'un des plus grands défis de notre temps : générer la richesse et la santé et créer des emplois dans un contexte mondial hyperconcurrentiel, sans produire de niveaux de stress excessifs.\",\n",
       " \"Ce livre s'adresse à tous les intervenants organisationnels. Il offre au lecteur un parcours complet stimulant qui démystifie la notion de stress et propose des explications accessibles, de même qu'une panoplie de pistes de réflexions et d'outils facilitant la gestion du stress en contexte organisationnel. Dans cette optique, le gestionnaire, le cadre, le spécialiste en ressources humaines et l'étudiant trouveront dans ce livre un cadre d'analyse pour mieux comprendre les défis du mieux-être et de la santé psychologique au travail et ainsi d'être mieux à même de diagnostiquer et d'intervenir dans des contextes particuliers. Afin d'ancrer les propos dans la réalité contemporaine, on trouvera aussi dans ce livre, ici et là, les propos de présidents de multinationales, de chefs de grandes sociétés et d'entreprises, ainsi que de spécialistes des milieux universitaires et scientifiques. Cela permettra, entre autres, d'apprécier la pertinence des solutions proposées dans l'ici et le maintenant.\",\n",
       " \"Le contexte actuel, les relocalisations d'entreprises, les fermetures, les fusions, les soubresauts économiques amènent bon nombre de chefs de direction à utiliser la même rengaine: « Notre personnel est notre meilleur atout ». La réalité, toutefois, révèle que cette phrase représente souvent un vœu pieux et qu'il existe encore malheureusement un large fossé entre la parole et l'acte. Dans les faits, les investissements dans le bien- être de ce meilleur atout qu'est le personnel demeurent beaucoup trop limités et la recherche d'une maximisation des profits prédomine presque toujours sur la santé psychologique des travailleurs. Force est de constater que dans la plupart des grandes organisations, les niveaux de stress semblent avoir atteint des records historiques.\",\n",
       " \"Tout cela nous amène à considérer que la clé se trouve possiblement dans la notion d'équilibre entre les capacités et les pressions productives, clé que ce livre cherchera à préciser et à décrire. En ce sens, les enjeux structurant la raison d'être de cet ouvrage sont les conséquences liées aux efforts répétés pour obtenir une capacité concurrentielle optimale ayant été déployés avec plus d'acuité depuis le début du XXIe siècle. Bien qu'il fût présent différemment à toutes les époques, le productivisme atteint depuis peu, dans une perspective tant organisationnelle que sociale, des sommets jusqu'à maintenant inégalés. Ces pressions s'exercent sous\",\n",
       " \"des formes variées, en fonction de la conjoncture économique, politique ou sociale de chaque réalité organisationnelle. Tous les travailleurs savent que les exigences du travail et de l'organisation sont une source importante de stress au quotidien. De nos jours, la plupart des organisations du monde emploient la même expression consacrée: « On en a besoin pour hier ». Chaque jour, les échéanciers, les urgences et les exigences des collègues, des subordonnés, des superviseurs, des clients gouvernent le rythme de travail des employés, quels que soient leur échelon hiérarchique, leur catégorie professionnelle ou leur niveau de responsabilité. Il fut un temps où la pénibilité physique du travail était le principal élé- ment qui minait la santé des travailleurs. Alors que la technologie et l'entrée dans une économie du savoir ont libéré une bonne part des travailleurs de cette forme de pénibilité, c'est la pénibilité psychologique qui menace maintenant la santé des employés. Et l'origine de cette pénibilité psychologique est par définition inévitablement humaine…\",\n",
       " \"Bien que cela soit paradoxal, malgré les immenses progrès dans les domaines de la médecine et de la psychologie, malgré l'enrichissement de nos connaissances scientifiques et socio-organisationnelles, les chefs d'entreprise tardent à se rendre compte que les moyens qu'ils déploient afin d'assurer la rentabilité de leur entreprise sont une cause de souffrance, de détresse et d'épuisement de leurs ressources. Pourtant, ce sont ces mêmes ressources humaines qui ont permis d'édifier leur organisation et dans lesquelles réside leur meilleur gage de rentabilité et de pérennité. Ils ne remarquent pas non plus qu'ils risquent eux-mêmes d'être victimes du stress généré par la culture d'entreprise qu'ils ont contribué à instaurer. Nous devons comprendre, ce qui complique la question, que le stress au travail est un phénomène inodore et incolore, mais qui a des effets potentiellement dévastateurs sur la santé et le bien- être des individus comme sur celui des organisations. La maxime formulée par Thomas Hobbes voulant que l'« Homme est un loup pour l'Homme » nous semble prophétique lorsqu'il est question de la gestion du stress et de la santé psychologique au travail. Actuellement, nous sommes obligés d'admettre que l'Homme est souvent le plus grand ennemi de sa propre santé psychologique au travail!\",\n",
       " \"En résumé, depuis le début du XXIe siècle, des transformations socio-organisationnelles importantes sont opérées dans la plupart des organisations du monde. Une concurrence accrue, une mondialisation des économies, une entrée massive des technologies de l'information dans les processus productifs sont quelques exemples des facteurs de renouvellement touchant les entreprises. Dans ce contexte, une quête\",\n",
       " \"historiquement inégalée d'efficacité, d'efficience et de rendement est instaurée par les gestionnaires, quête qui évidemment demande un engagement considérable et des efforts constants aux travailleurs et qui se fait la plupart du temps au détriment de leur santé psychologique. Pourtant, il est possible de réconcilier la performance organisationnelle et la santé des travailleurs; réconciliation qui demande d'envisager l'une par l'autre, c'est-à-dire de voir la santé comme un vecteur de performance pérenne et la performance comme un levier au bien-être des acteurs organisationnels. Ce livre a pour principal but de visiter les paramètres de cette nécessaire adéquation afin d'organiser cette quête de productivité dans les balises des capacités psychologiques de la ressource la plus importante de toutes organisations, l'humain.\",\n",
       " \"Dans le présent ouvrage, nous ne cherchons pas à donner des exemples de la façon parfaite d'endiguer la pression en milieu de travail. En fait, on aura beau chercher, il n'existe pas de panacée simple et universelle capable d'éradiquer ce problème ou de le résoudre définitivement. Au contraire, nous entendons présenter tous les éléments complexes de ce phénomène de la façon la plus simple et la plus concise possible, pour bien faire comprendre la nature du stress, son incidence sur la santé et les choix qu'il est possible de faire afin de conjuguer la performance d'une entreprise au mieux-être de ses travailleurs. Nous mettrons l'accent sur les paramètres diagnostiques qui permettent aux décideurs organisationnels de reconnaître clairement les enjeux et ainsi d'être plus à même d'opter pour des modes de gestion permettant de relever les défis de leur contexte particulier. Bien que plusieurs pistes de solutions soient abordées, il ne s'agira pas de formuler des recettes préétablies, mais d'illustrer les éléments d'analyses sous-jacentes à chacune des solutions, éléments permettant d'assurer la meilleure efficacité dans une quête d'adéquation. Pour ce faire, le livre s'articule en cinq chapitres.\",\n",
       " \"Le chapitre 1 jette les bases d'une réflexion générale sur la nécessité de conjuguer la productivité et l'efficience organisationnelles à la santé psychologique. On y aborde, entre autres, les ramifications entre la qualité de vie au travail et le stress dans l'optique de l'émergence d'un nouveau modèle de gestion. Les grands paradoxes du stress sur lesquels reposent les modes traditionnels de gestion sont aussi présentés.\",\n",
       " \"Le chapitre 2 expose le phénomène du stress en général et du stress professionnel en particulier par l'analyse de ses facteurs déterminants et catalyseurs, de leurs symptômes et de leurs conséquences.\",\n",
       " \"Le chapitre 3 examine de plus près les sources et les antécédents du stress professionnel, de même que leurs coûts et leurs conséquences pour la santé psychologique des employés et, par ricochet, pour l'efficience de l'entreprise.\",\n",
       " \"Le chapitre 4 approfondit la notion d'estime de soi dans le contexte général du stress et de la santé, en plus de présenter quelques aspects connexes. Il contient aussi des réflexions sur l'estime de soi et d'autres différences individuelles. Ce chapitre se termine sur une analyse des relations entre l'estime de soi et le stress professionnel.\",\n",
       " \"Le chapitre 5 propose des clés pour l'application de stratégies individuelles de traitement du stress, y compris des indications pour sa prévention par le développement d'une saine santé psychologique. Le chapitre porte aussi sur les stratégies organisationnelles de gestion du stress professionnel. Y sont analysés les obstacles à surmonter ainsi que les divers niveaux d'intervention possibles.\",\n",
       " \"Nous avons rédigé Stress, santé et performance au travail en ayant quatre objectifs en tête: offrir un ouvrage facile à lire et à comprendre, présenter les éléments essentiels du sujet, adapter le contenu à la situation actuelle des organisations et stimuler les lecteurs. Nous espérons que ce livre suscitera la réflexion et la discussion dans le domaine de la gestion du stress professionnel et de la santé psychologique. Cet ouvrage s'adresse autant aux entrepreneurs et chefs d'entreprise qu'aux professionnels de la santé au travail et aux futurs gestionnaires en formation.\",\n",
       " 'Voici quelques-unes des principales caractéristiques du présent ouvrage:',\n",
       " \"Un langage et des termes simples. En écrivant ce livre, nous avons tenté d'employer un langage facile à comprendre par les professionnels, en évitant les exemples abstraits ou trop vagues, afin de présenter un texte direct qui se lit facilement et rapidement.\",\n",
       " \"Des exemples actuels. Le contenu s'accompagne de cas d'entreprises et de commentaires de spécialistes reconnus en la matière.\",\n",
       " \"Des éléments stimulants. Chaque chapitre contient des éléments qui peuvent servir à alimenter la réflexion sur les aspects à l'étude. Les outils d'autoévaluation proposent aux lecteurs de déterminer certaines caractéristiques de leur propre dynamique du stress, et de courtes études de cas facilitent l'analyse de situations concrètes.\",\n",
       " \"L'idée originale de cet ouvrage est de susciter une prise de conscience chez les dirigeants et les organisations afin qu'ils comprennent tout ce que coûte le stress au travail. Nous devons garder à l'esprit que notre milieu\",\n",
       " \"de travail dépend de nous et qu'ensemble, nous pouvons créer des milieux de travail sains, attentifs au bien-être des travailleurs, tout en étant hautement productifs. Sans solidarité, l'humanité n'a pas d'avenir.\",\n",
       " \"Pour l'essentiel, les réflexions et les points d'intervention mentionnés dans cet ouvrage sont le fruit de notre expérience personnelle, professionnelle et universitaire.\",\n",
       " \"Simon L. Dolan - Simon L. Dolan est actuellement le président de la Global Future of Work Foundation (globalfutureofwork.com). Il a développé trois principaux champs d'intérêt au cours de sa longue carrière en recherche : le stress, le coaching et la gestion par valeurs, ainsi que l'avenir du travail. Après l'obtention de son doctorat, il a commencé sa recherche sur le thème du stress au travail. Pour Simon L. Dolan, l'intérêt pour le domaine du stress professionnel remonte aux années 1970 et à une expérience qu'il a vécue à la clinique Mayo, au Minnesota. Pendant ses études de doctorat à l'Université du Minnesota, il a collaboré à une recherche sur les perceptions des patients qui avaient survécu à leur première crise cardiaque. Aucun de ces patients n'avait d'autre antécédent de cardiopathie, et tous étaient sur le marché du travail; il s'agissait essentiellement de patients qui s'étaient considérés comme étant en bonne santé toute leur vie. C'est avec surprise que l'équipe de recherche a corroboré que plus de 90 % de ces 210 patients attribuaient leur crise cardiaque à leur travail. Évidemment, ce constat découlait uniquement de la perception des patients et non d'une constatation objective; il était donc impossible d'en tirer des conclusions définitives. Pourtant, cette révélation a eu assez d'incidence sur lui pour qu'il consacre plus de 40 ans de sa vie à la recherche dans ce domaine. On peut résumer comme suit l'impulsion qu'a générée cette révélation: le travail peut avoir une valeur positive et favoriser le bien-être personnel (sur les plans économique, social et psychoémotionnel), mais quand tout va mal au travail, l'effet sur la santé est potentiellement dévastateur. Il en est venu à la conclusion qu'une nouvelle forme de toxicité est apparue au XXe siècle; elle est incolore et inodore, mais elle peut avoir un effet cumulatif très nocif sur la santé individuelle et le bien-être organisationnel. Ce constat a suscité un nouvel intérêt dans un domaine professionnel qu'on a appelé la « psychotoxicologie du travail ». Après ses études doctorales au Minnesota, il s'est joint à l'équipe internationale dirigée par Hans Selye à Montréal. À cette époque, le Dr Selye était considéré comme le « gourou» du domaine du stress; on l'appelait d'ailleurs souvent « le père» du stress. Ce livre repose en grande partie sur les travaux qu'il a réalisés avec Hans Selye au début de sa carrière à l'Université\",\n",
       " \"de Montréal; il porte également la marque d'autres universitaires distingués avec qui il a collaboré, comme les professeurs Randall Schuler et Susan Jackson de l'Université de New York (aujourd'hui à l'Université Rutgers, New Jersey), le professeur Ron Burke de l'Université York ainsi que le professeur Cary Cooper de l'Université de Manchester.\",\n",
       " \"Eric Gosselin - Le professeur Eric Gosselin s'intéresse depuis toujours aux phénomènes psychologiques structurant l'adoption des comportements. Fort impressionné par les études classiques en psychologie sociale (voir Ash, Milgram, Zimbardo) auxquelles il a été initié alors qu'il était cégépien, il s'est rapidement abreuvé aux écrits psychologiques, particulièrement psychanalytiques, afin de mieux pénétrer les abysses de l'action humaine. Après des études universitaires en psychologie à l'Université d'Ottawa, et peu intéressé par la chose clinique qui était alors la principale voie de salut en psychologie, il s'est tourné vers les relations industrielles à l'Université du Québec en Outaouais afin de mieux comprendre l'homo faber. Il réalise alors, sous la direction des professeurs Robert-Paul Bourgeois et Francine Rancourt, des travaux de recherche sur les facteurs sous-jacents au choix et à l'orientation de carrière, choix qu'il inscrit directement dans le prolongement d'une quête d'actualisation et de réalisation de soi. C'est au début de ses études doctorales à l'Université de Montréal qu'il fera la rencontre du professeur Dolan, qui en plus d'assumer le rôle de la direction de sa thèse, l'initiera au domaine de la santé psychologique et du stress au travail. Il sera ainsi l'un des derniers étudiants à joindre les rangs du Centre de recherche sur le stress et la santé au travail, centre de recherche fondé quelques années auparavant par les professeurs Dolan et Arsenault. Ses années doctorales sur la montagne lui ont permis de découvrir un univers inexploré de savoirs sur la santé au travail au contact de son directeur, et mentor, le professeur Dolan. Dès lors, l'essentiel de son intérêt se concentrera sur les déterminants du stress et de la santé psychologique au travail. Pour fermer la boucle, une année postdoctorale passée à l'Institut en santé des populations ainsi qu'à l'École de psychologie de l'Université d'Ottawa lui permettra d'élargir ses perspectives grâce aux enseignements de la professeure Louise Lemyre et des collaborations avec son équipe de recherche du GAP-Santé. Embauché dès 1998 comme professeur de psychologie du travail et des organisations au Département de relations industrielles de l'Université du Québec en Outaouais, Eric Gosselin poursuit depuis une carrière comme chercheur, professeur et consultant dans le domaine de la psychologie du travail. Il se joint en 2010 au Laboratoire d'analyse\",\n",
       " \"psychoneuroendocrinologique du stress et de la santé (LAPS2) de l'UQO et mène depuis un programme de recherche axé sur les neurosciences organisationnelles. Il a dirigé de nombreux étudiants aux cycles supé- rieurs et a publié plusieurs articles scientifiques, dont le livre Comportement organisationnel (Chenelière Éducation) en collaboration avec les professeurs Dolan, Morin et Bélisle. Ses principaux champs d'intervention et de recherche portent sur la santé psychologique et la gestion du stress au travail, le présentéisme, l'interface entre la satisfaction au travail et la satisfaction dans la vie et les dynamiques intersubjectives sous-jacentes aux épisodes conflictuels en milieu de travail.\",\n",
       " \"André Arsenault - Pour André Arsenault, l'intérêt pour la médecine psychosomatique remonte au Collège Sainte-Marie où la lecture de Franz Alexander (1891-1964) a marqué son imaginaire et fait changer son option de sciences pures pour la médecine. La faculté s'est avérée un milieu fortement aliénant dans un processus de socialisation très centré sur la maladie plutôt que sur le malade. Quant à la prévention, elle faisait partie de l'univers des rêveurs et des utopistes de la santé publique d'alors. L'intérêt pour la santé mentale au travail s'est concrétisé à travers l'action syndicale comme promoteur de meilleures conditions d'apprentissage des médecins en formation auprès de la Commission Castonguay. Jeune professeur en médecine nucléaire à l'Université de Sherbrooke, il a continué à partager ses champs d'intérêt entre la chimie, la physique et les mathématiques, et les sciences de la santé communautaire. Là, l'épidé- miologie, la sociologie et l'économie de la santé ont alimenté une réflexion sur le stress et l'aliénation au sein de la faculté qui affectait la qualité de vie des professeurs, des étudiants et des malades tout autant. Selon le mot lumineux de son ami Rodrigue Johnson, sociologue et camarade de faculté, le patient était et est devenu l'objet d'une intervention et non pas le sujet de sa maladie. Cette crise identitaire l'a amené à abandonner sa carrière de professeur en médecine nucléaire pour devenir médecin du travail à Hydro-Québec dans une organisation où la prévention devait être une priorité. Au début des années 1980, la réforme de la santé au travail était dans l'air et Hydro-Québec apparaissait comme un terrain fertile. C'est dans ce contexte que s'est produite la rencontre avec Simon ; ce dernier travaillait sur un cadre théorique et un canevas de rechercheaction sur le stress au travail, et André se trouvait dans une boîte en proie à la tourmente d'une réorganisation majeure du travail : la fin des grands barrages, un climat d'après marathon, une quantité phénoménale de professionnels qualifiés payés à ne rien faire et malades d'une perte de sens\",\n",
       " \"de leur quotidien au travail. Ce fut le début d'une passionnante collaboration. De professeur de médecine, André est devenu professeur en relations industrielles à l'invitation de Simon à l'Université de Montréal. Pendant 10 ans, créateur et directeur d'une équipe de soutien à la recherche à l'Institut de recherche en santé et sécurité du travail du Québec (IRSST), André Arsenault a soutenu la mise en place d'une approche à la prévention des maladies et des accidents du travail centrée sur l'appropriation par les acteurs sociaux de l'organisation du travail. Puis ce fut la publication du livre manifeste de leurs consensus, Stress, santé et rendement au travail dans lequel ils osaient proposer le terme de santé du travail. Un éminent collègue avait insisté pour qu'ils abandonnent ce terme le jugeant trop audacieux. Mais cet oxymoron a marqué le coup d'une suite de travaux sur le stress et l'organisation du travail. Virage additionnel, André est revenu à la médecine nucléaire à l'Institut de cardiologie de Montréal et, après 20 ans de travaux menés séparément, leurs routes se croisent à nouveau. Car en ce moment, des travaux sur la maladie cardiovasculaire et les facteurs de risques convergent pour faire du milieu de travail un bouillon de culture pour les troubles psychosomatiques liés au stress: perte d'estime de soi, habitudes alimentaires bousculées, épidémie d'obésité et de troubles du sommeil, hypertension, syndrome métabolique. De son côté, Simon se pointe avec des concepts de restructuration organisationnelle centrée sur les valeurs. Mirage ou lueur d'espoir, le concept est au moins à la portée de tous à une époque où l'individu, comme personne, n'a des chances de retrouver un sens au travail que si l'entreprise fait l'objet d'un recentrage sur l'objet de son existence dans sa dimension immatérielle et identitaire.\",\n",
       " \"Nous voudrions donc dédier cet ouvrage aux collègues à qui nous sommes particulièrement redevables de nous avoir aidés à évoluer et à développer ce cadre de référence. Simon L. Dolan veut, dans un premier temps, exprimer sa gratitude à son mentor spirituel, le regretté professeur Arie Shirom (de Tel-Aviv) qui l'a initié au champ d'études du stress au travail. Il tient également à exprimer sa reconnaissance la plus sincère au regretté Dr Hans Selye, qui a cru en lui, lui a donné son appui et lui a ouvert des portes au cours de ses premières années à l'Université de Montréal. Il veut aussi remercier le Dr André Arsenault, coauteur de cet ouvrage, pour sa confiance et sa collaboration pendant près de 20 ans de travail commun et de direction conjointe du Groupe de recherche Stress et santé au travail de l'Université de Montréal et le travail commun et pionnier qu'ils ont fait pour l'IRSST. En fait, la première édition du présent ouvrage, rédigée en français avec André Arsenault en 1980 (et préfacée\",\n",
       " \"par Hans Selye), est devenue un succès de librairie au Canada1. Le coauteur a appris énormément d'André, non seulement sur le plan scientifique (André est un brillant statisticien), mais aussi sur le plan humain (André figure parmi les plus grands humanistes qu'il ait rencontrés).\",\n",
       " \"André Arsenault voudrait, quant à lui, remercier au premier chef le regretté Fernand Seguin, héros de son enfance « en pantoufles», qu'il a retrouvé comme membre du comité scientifique de l'IRSST dans les années 1980 et qui a été un formidable accompagnateur des travaux sur l'organisation du travail et le stress. Il leur avait fait l'honneur de commenter à la radio de Radio-Canada leur ouvrage sur Le stress et ses effets sur l'individu et l'organisation. Lors d'un dîner en tête-à-tête, il leur avait aussi fait part du chemin qui restait à parcourir pour arriver à cerner cette réalité dans toute la complexité du rapport entre le sujet, ardoise sur laquelle le stress inscrit les traces de son passage parfois grinçant, et l'environnement qui sollicite et assaille le champ perceptuel du sujet en jouant souvent dans ses angles morts. Rodrigue Johnson, sociologue de la santé, ex-collègue de Sherbrooke, qui a été au cœur d'une mutation dans la carrière d'André et l'a fait virer au social dans sa forme la plus qualitative jetant un regard sur le sujet comme un être malade aux prises avec une perte de sens et une déchirure du vêtement social qui lui permettait de jouer la magie des costumes et des masques et le désappropriait de son autonomie pour le mettre en jaquette fendue dans un isoloir, espace de solitude et surtout d'isolement. Et Jean-Marie Romeder, mathématicien et épidémiologiste qui a joué dans le tout autre registre des représentations multidimensionnelles du réel à cheval entre les méthodes quantitatives à l'américaine et les méthodes qualitatives à la française. Outillage méthodologique précieux pour aborder le réel en respectant sa complexité sans écarter le sujet et sa représentation unique de la réalité.\",\n",
       " \"Ensemble, nous avons mis sur pied le Groupe de recherche Stress et santé au travail, qui a été très actif et a produit un grand nombre d'œuvres savantes publiées sous forme de monographies et d'articles scientifiques jusqu'au milieu des années 1990.\",\n",
       " 'Eric Gosselin tient à exprimer ses sincères remerciements à ses mentors scientifiques que sont le regretté professeur Robert-Paul Bourgeois et la professeure Francine Rancourt (Université du Québec à Hull), ainsi que le professeur Simon L. Dolan (Université de Montréal). Chacune à leur',\n",
       " '1\\tDolan, S. L. et Arsenault, A. (1980). Stress, santé et rendement au travail (préface de Hans Selye), Montréal, Monographie no 5, École de relations industrielles, Université de Montréal.',\n",
       " \"façon, au cours de ses années de formation aux cycles supérieurs, ces personnes lui ont offert les conseils et la latitude nécessaires au développement de ses habiletés en recherche et ont été des modèles de rigueur, d'intégrité et d'innovation qui l'ont grandement inspiré. Il tient aussi à souligner l'apport de ses étudiants à la maîtrise et au doctorat des dernières années qui l'ont ponctuellement obligé à revoir ses conceptions et à reconsidérer ce qu'il tenait parfois pour acquis. Ces étudiants, qu'il considère comme autant de collaborateurs, sont une source inépuisable de curiosité et de dépassement.\",\n",
       " \"Puisse la passion de satisfaire sa curiosité intellectuelle vivre à jamais et ses bienfaits pour l'humanité triompher!\",\n",
       " 'Simon L. Dolan Eric Gosselin André Arsenault']"
      ]
     },
     "execution_count": 5,
     "metadata": {},
     "output_type": "execute_result"
    }
   ],
   "source": [
    "chapters[0]"
   ]
  },
  {
   "cell_type": "code",
   "execution_count": 6,
   "id": "f3ab403a",
   "metadata": {},
   "outputs": [],
   "source": [
    "chapters_without_tables = {\n",
    "    i: list(filter(lambda p: isinstance(p, str), chap))\n",
    "    for i, chap in chapters.items()}"
   ]
  },
  {
   "cell_type": "code",
   "execution_count": 7,
   "id": "a8054c40",
   "metadata": {},
   "outputs": [
    {
     "data": {
      "text/html": [
       "<style type=\"text/css\">\n",
       "</style>\n",
       "<table id=\"T_56cfe\">\n",
       "  <thead>\n",
       "    <tr>\n",
       "      <th id=\"T_56cfe_level0_col0\" class=\"col_heading level0 col0\" >chapters</th>\n",
       "      <th id=\"T_56cfe_level0_col1\" class=\"col_heading level0 col1\" >words_count</th>\n",
       "      <th id=\"T_56cfe_level0_col2\" class=\"col_heading level0 col2\" >unique_words_count</th>\n",
       "      <th id=\"T_56cfe_level0_col3\" class=\"col_heading level0 col3\" >stop_words_count</th>\n",
       "    </tr>\n",
       "  </thead>\n",
       "  <tbody>\n",
       "    <tr>\n",
       "      <td id=\"T_56cfe_row0_col0\" class=\"data row0 col0\" >0</td>\n",
       "      <td id=\"T_56cfe_row0_col1\" class=\"data row0 col1\" >4639</td>\n",
       "      <td id=\"T_56cfe_row0_col2\" class=\"data row0 col2\" >1747</td>\n",
       "      <td id=\"T_56cfe_row0_col3\" class=\"data row0 col3\" >2111</td>\n",
       "    </tr>\n",
       "    <tr>\n",
       "      <td id=\"T_56cfe_row1_col0\" class=\"data row1 col0\" >1</td>\n",
       "      <td id=\"T_56cfe_row1_col1\" class=\"data row1 col1\" >8005</td>\n",
       "      <td id=\"T_56cfe_row1_col2\" class=\"data row1 col2\" >2638</td>\n",
       "      <td id=\"T_56cfe_row1_col3\" class=\"data row1 col3\" >3437</td>\n",
       "    </tr>\n",
       "    <tr>\n",
       "      <td id=\"T_56cfe_row2_col0\" class=\"data row2 col0\" >2</td>\n",
       "      <td id=\"T_56cfe_row2_col1\" class=\"data row2 col1\" >11345</td>\n",
       "      <td id=\"T_56cfe_row2_col2\" class=\"data row2 col2\" >3495</td>\n",
       "      <td id=\"T_56cfe_row2_col3\" class=\"data row2 col3\" >4728</td>\n",
       "    </tr>\n",
       "    <tr>\n",
       "      <td id=\"T_56cfe_row3_col0\" class=\"data row3 col0\" >3</td>\n",
       "      <td id=\"T_56cfe_row3_col1\" class=\"data row3 col1\" >13340</td>\n",
       "      <td id=\"T_56cfe_row3_col2\" class=\"data row3 col2\" >4066</td>\n",
       "      <td id=\"T_56cfe_row3_col3\" class=\"data row3 col3\" >5574</td>\n",
       "    </tr>\n",
       "    <tr>\n",
       "      <td id=\"T_56cfe_row4_col0\" class=\"data row4 col0\" >4</td>\n",
       "      <td id=\"T_56cfe_row4_col1\" class=\"data row4 col1\" >15267</td>\n",
       "      <td id=\"T_56cfe_row4_col2\" class=\"data row4 col2\" >4768</td>\n",
       "      <td id=\"T_56cfe_row4_col3\" class=\"data row4 col3\" >6732</td>\n",
       "    </tr>\n",
       "    <tr>\n",
       "      <td id=\"T_56cfe_row5_col0\" class=\"data row5 col0\" >5</td>\n",
       "      <td id=\"T_56cfe_row5_col1\" class=\"data row5 col1\" >20563</td>\n",
       "      <td id=\"T_56cfe_row5_col2\" class=\"data row5 col2\" >5429</td>\n",
       "      <td id=\"T_56cfe_row5_col3\" class=\"data row5 col3\" >8998</td>\n",
       "    </tr>\n",
       "  </tbody>\n",
       "</table>\n"
      ],
      "text/plain": [
       "<pandas.io.formats.style.Styler at 0x7feb27f5dae0>"
      ]
     },
     "execution_count": 7,
     "metadata": {},
     "output_type": "execute_result"
    }
   ],
   "source": [
    "df = pd.DataFrame(data={\"chapters\": chapters_without_tables.keys()})\n",
    "\n",
    "df[\"words_count\"] = df[\"chapters\"].apply(\n",
    "    lambda i: sum(map(lambda p: len(p.split()) if isinstance(p, str) else 0,\n",
    "                      chapters_without_tables[i])))\n",
    "\n",
    "df[\"unique_words_count\"] = df[\"chapters\"].apply(\n",
    "    lambda i: len(set('\\n'.join(chapters_without_tables[i]).split())))\n",
    "\n",
    "df[\"stop_words_count\"] = df[\"chapters\"].apply(\n",
    "    lambda i: sum(map(lambda p: sum(1 for w in p.split() if w in fr_stop)\n",
    "                      if isinstance(p, str) else 0,\n",
    "                      chapters_without_tables[i])))\n",
    "\n",
    "df.style.hide(axis='index')"
   ]
  },
  {
   "cell_type": "code",
   "execution_count": 8,
   "id": "79bfa6fb",
   "metadata": {},
   "outputs": [
    {
     "data": {
      "image/png": "[encoded data removed]",
      "text/plain": [
       "<Figure size 432x288 with 1 Axes>"
      ]
     },
     "metadata": {
      "needs_background": "light"
     },
     "output_type": "display_data"
    }
   ],
   "source": [
    "bar_plot = df.iloc[:, 1:].plot.bar(stacked=True, xlabel=\"Chapters\", ylabel=\"Count\")\n",
    "# TODO: Investigate the linear ascension of counts"
   ]
  },
  {
   "cell_type": "code",
   "execution_count": 10,
   "id": "f7b42543",
   "metadata": {},
   "outputs": [
    {
     "data": {
      "text/plain": [
       "<Figure size 432x288 with 0 Axes>"
      ]
     },
     "metadata": {},
     "output_type": "display_data"
    }
   ],
   "source": [
    "plt.savefig(\"stats.jpg\")"
   ]
  }
 ],
 "metadata": {
  "kernelspec": {
   "display_name": "Python 3 (ipykernel)",
   "language": "python",
   "name": "python3"
  },
  "language_info": {
   "codemirror_mode": {
    "name": "ipython",
    "version": 3
   },
   "file_extension": ".py",
   "mimetype": "text/x-python",
   "name": "python",
   "nbconvert_exporter": "python",
   "pygments_lexer": "ipython3",
   "version": "3.10.4"
  }
 },
 "nbformat": 4,
 "nbformat_minor": 5
}
