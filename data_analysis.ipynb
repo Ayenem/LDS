{
 "cells": [
  {
   "cell_type": "code",
   "execution_count": 1,
   "id": "5ad6644b",
   "metadata": {},
   "outputs": [],
   "source": [
    "from pathlib import Path\n",
    "from book_loader import BookLoader\n",
    "from typing import Dict, List\n",
    "import pandas as pd\n",
    "import matplotlib.pyplot as plt\n",
    "\n",
    "import spacy\n",
    "from spacy.lang.fr.stop_words import STOP_WORDS as fr_stop\n",
    "# spacy.prefer_gpu() # NB doesn't have access to GPU through WSL"
   ]
  },
  {
   "cell_type": "code",
   "execution_count": 2,
   "id": "86a83746",
   "metadata": {},
   "outputs": [
    {
     "name": "stderr",
     "output_type": "stream",
     "text": [
      "/home/ahmedm/anaconda3/envs/LDS/lib/python3.10/site-packages/simplify_docx/iterators/generic.py:193: UnexpectedElementWarning: Skipping unexpected tag: {http://schemas.openxmlformats.org/wordprocessingml/2006/main}pict\n",
      "  warn(\"Skipping unexpected tag: %s\" % (current.tag),\n"
     ]
    }
   ],
   "source": [
    "data_path = Path(\"data/D5627-Dolan.docx\").expanduser().resolve()\n",
    "book = BookLoader(data_path=data_path)\n",
    "chapters: list[list[str]] = book.chapters"
   ]
  },
  {
   "cell_type": "code",
   "execution_count": 3,
   "id": "5c38f719",
   "metadata": {},
   "outputs": [
    {
     "name": "stdout",
     "output_type": "stream",
     "text": [
      "chapters[1][:3]: ['Chapitre 1 /', \"Stress, santé et travail: vue d'ensemble\", \"J'oublie ce que j'entends, je me rappelle ce que je vois, je comprends ce que je fais.\"]\n",
      "\n",
      "chapters[1][-6]: <class 'str'>\n"
     ]
    }
   ],
   "source": [
    "print(f\"chapters[1][:3]: {chapters[1][:3]}\\n\")\n",
    "print(f\"chapters[1][-6]: {type(chapters[1][-6])}\")"
   ]
  },
  {
   "cell_type": "code",
   "execution_count": 4,
   "id": "f3ab403a",
   "metadata": {},
   "outputs": [],
   "source": [
    "chapters_without_tables = [\n",
    "    list(filter(lambda p: isinstance(p, str), chap))\n",
    "    for chap in chapters]"
   ]
  },
  {
   "cell_type": "code",
   "execution_count": 5,
   "id": "cb39bcec",
   "metadata": {},
   "outputs": [
    {
     "data": {
      "text/plain": [
       "'/\\tPost-scriptum'"
      ]
     },
     "execution_count": 5,
     "metadata": {},
     "output_type": "execute_result"
    }
   ],
   "source": [
    "chapters_without_tables[1][-6]"
   ]
  },
  {
   "cell_type": "code",
   "execution_count": 6,
   "id": "a8054c40",
   "metadata": {},
   "outputs": [
    {
     "data": {
      "text/html": [
       "<style type=\"text/css\">\n",
       "</style>\n",
       "<table id=\"T_874b7\">\n",
       "  <thead>\n",
       "    <tr>\n",
       "      <th id=\"T_874b7_level0_col0\" class=\"col_heading level0 col0\" >chapters</th>\n",
       "      <th id=\"T_874b7_level0_col1\" class=\"col_heading level0 col1\" >words_count</th>\n",
       "      <th id=\"T_874b7_level0_col2\" class=\"col_heading level0 col2\" >unique_words_count</th>\n",
       "      <th id=\"T_874b7_level0_col3\" class=\"col_heading level0 col3\" >stop_words_count</th>\n",
       "    </tr>\n",
       "  </thead>\n",
       "  <tbody>\n",
       "    <tr>\n",
       "      <td id=\"T_874b7_row0_col0\" class=\"data row0 col0\" >0</td>\n",
       "      <td id=\"T_874b7_row0_col1\" class=\"data row0 col1\" >4639</td>\n",
       "      <td id=\"T_874b7_row0_col2\" class=\"data row0 col2\" >1747</td>\n",
       "      <td id=\"T_874b7_row0_col3\" class=\"data row0 col3\" >2111</td>\n",
       "    </tr>\n",
       "    <tr>\n",
       "      <td id=\"T_874b7_row1_col0\" class=\"data row1 col0\" >1</td>\n",
       "      <td id=\"T_874b7_row1_col1\" class=\"data row1 col1\" >7940</td>\n",
       "      <td id=\"T_874b7_row1_col2\" class=\"data row1 col2\" >2625</td>\n",
       "      <td id=\"T_874b7_row1_col3\" class=\"data row1 col3\" >3417</td>\n",
       "    </tr>\n",
       "    <tr>\n",
       "      <td id=\"T_874b7_row2_col0\" class=\"data row2 col0\" >2</td>\n",
       "      <td id=\"T_874b7_row2_col1\" class=\"data row2 col1\" >11217</td>\n",
       "      <td id=\"T_874b7_row2_col2\" class=\"data row2 col2\" >3450</td>\n",
       "      <td id=\"T_874b7_row2_col3\" class=\"data row2 col3\" >4687</td>\n",
       "    </tr>\n",
       "    <tr>\n",
       "      <td id=\"T_874b7_row3_col0\" class=\"data row3 col0\" >3</td>\n",
       "      <td id=\"T_874b7_row3_col1\" class=\"data row3 col1\" >11400</td>\n",
       "      <td id=\"T_874b7_row3_col2\" class=\"data row3 col2\" >3557</td>\n",
       "      <td id=\"T_874b7_row3_col3\" class=\"data row3 col3\" >4920</td>\n",
       "    </tr>\n",
       "    <tr>\n",
       "      <td id=\"T_874b7_row4_col0\" class=\"data row4 col0\" >4</td>\n",
       "      <td id=\"T_874b7_row4_col1\" class=\"data row4 col1\" >14736</td>\n",
       "      <td id=\"T_874b7_row4_col2\" class=\"data row4 col2\" >4637</td>\n",
       "      <td id=\"T_874b7_row4_col3\" class=\"data row4 col3\" >6522</td>\n",
       "    </tr>\n",
       "    <tr>\n",
       "      <td id=\"T_874b7_row5_col0\" class=\"data row5 col0\" >5</td>\n",
       "      <td id=\"T_874b7_row5_col1\" class=\"data row5 col1\" >14983</td>\n",
       "      <td id=\"T_874b7_row5_col2\" class=\"data row5 col2\" >4252</td>\n",
       "      <td id=\"T_874b7_row5_col3\" class=\"data row5 col3\" >6605</td>\n",
       "    </tr>\n",
       "    <tr>\n",
       "      <td id=\"T_874b7_row6_col0\" class=\"data row6 col0\" >6</td>\n",
       "      <td id=\"T_874b7_row6_col1\" class=\"data row6 col1\" >1753</td>\n",
       "      <td id=\"T_874b7_row6_col2\" class=\"data row6 col2\" >822</td>\n",
       "      <td id=\"T_874b7_row6_col3\" class=\"data row6 col3\" >796</td>\n",
       "    </tr>\n",
       "  </tbody>\n",
       "</table>\n"
      ],
      "text/plain": [
       "<pandas.io.formats.style.Styler at 0x7fadb306d0c0>"
      ]
     },
     "execution_count": 6,
     "metadata": {},
     "output_type": "execute_result"
    }
   ],
   "source": [
    "df = pd.DataFrame(data={\"chapters\": range(len(chapters_without_tables))})\n",
    "\n",
    "df[\"words_count\"] = df[\"chapters\"].apply(\n",
    "    lambda i: sum(map(lambda p: len(p.split()) if isinstance(p, str) else 0,\n",
    "                      chapters_without_tables[i])))\n",
    "\n",
    "df[\"unique_words_count\"] = df[\"chapters\"].apply(\n",
    "    lambda i: len(set('\\n'.join(chapters_without_tables[i]).split())))\n",
    "\n",
    "df[\"stop_words_count\"] = df[\"chapters\"].apply(\n",
    "    lambda i: sum(map(lambda p: sum(1 for w in p.split() if w in fr_stop)\n",
    "                      if isinstance(p, str) else 0,\n",
    "                      chapters_without_tables[i])))\n",
    "\n",
    "df.style.hide(axis='index')"
   ]
  },
  {
   "cell_type": "code",
   "execution_count": 7,
   "id": "62714e3a",
   "metadata": {},
   "outputs": [
    {
     "data": {
      "image/png": "[encoded data removed]",
      "text/plain": [
       "<Figure size 432x288 with 1 Axes>"
      ]
     },
     "metadata": {
      "needs_background": "light"
     },
     "output_type": "display_data"
    }
   ],
   "source": [
    "bar_plot = df.iloc[:, 1:].plot.bar(xlabel=\"Chapters\", ylabel=\"Count\")\n",
    "fig = plt.gcf()"
   ]
  },
  {
   "cell_type": "code",
   "execution_count": 8,
   "id": "9d5dc44e",
   "metadata": {},
   "outputs": [],
   "source": [
    "fig.savefig(\"stats.jpg\")"
   ]
  }
 ],
 "metadata": {
  "kernelspec": {
   "display_name": "Python 3 (ipykernel)",
   "language": "python",
   "name": "python3"
  },
  "language_info": {
   "codemirror_mode": {
    "name": "ipython",
    "version": 3
   },
   "file_extension": ".py",
   "mimetype": "text/x-python",
   "name": "python",
   "nbconvert_exporter": "python",
   "pygments_lexer": "ipython3",
   "version": "3.10.5"
  }
 },
 "nbformat": 4,
 "nbformat_minor": 5
}
