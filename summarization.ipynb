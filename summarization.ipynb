{
 "cells": [
  {
   "cell_type": "markdown",
   "id": "1d01e3ce",
   "metadata": {},
   "source": [
    "## [CamemBERTsum](https://huggingface.co/mrm8488/camembert2camembert_shared-finetuned-french-summarization) fine-tuned on [mlsum-fr](https://huggingface.co/datasets/viewer/?dataset=mlsum)\n",
    "\n",
    "> MLSUM is the first large-scale MultiLingual SUMmarization dataset. Obtained from **online newspapers**, it contains **1.5M+ article/summary pairs** in five different languages -- namely, **French**, German, Spanish, Russian, Turkish.\n",
    "> https://huggingface.co/mrm8488/camembert2camembert_shared-finetuned-french-summarization#dataset\n",
    "\n",
    ">* Size of downloaded dataset files: 591.27 MB\n",
    ">* Size of the generated dataset: 1537.36 MB\n",
    ">* Total amount of disk used: 2128.63 MB\n",
    ">* An example of 'validation' looks as follows.\n",
    ">```json\n",
    "{\n",
    "    \"date\": \"01/01/2001\",\n",
    "    \"summary\": \"A text\",\n",
    "    \"text\": \"This is a text\",\n",
    "    \"title\": \"A sample\",\n",
    "    \"topic\": \"football\",\n",
    "    \"url\": \"https://www.google.com\"\n",
    "}\n",
    ">```\n",
    ">https://huggingface.co/datasets/mlsum#fr"
   ]
  },
  {
   "cell_type": "code",
   "execution_count": 1,
   "id": "cb3927b7",
   "metadata": {},
   "outputs": [],
   "source": [
    "from pathlib import Path\n",
    "from pprint import PrettyPrinter\n",
    "\n",
    "import torch\n",
    "from transformers import RobertaTokenizerFast, EncoderDecoderModel\n",
    "\n",
    "from book_loader import BookLoader"
   ]
  },
  {
   "cell_type": "code",
   "execution_count": 2,
   "id": "fd0b56c1",
   "metadata": {},
   "outputs": [
    {
     "name": "stderr",
     "output_type": "stream",
     "text": [
      "/home/ahmedm/anaconda3/envs/LDS/lib/python3.10/site-packages/simplify_docx/iterators/generic.py:193: UnexpectedElementWarning: Skipping unexpected tag: {http://schemas.openxmlformats.org/wordprocessingml/2006/main}pict\n",
      "  warn(\"Skipping unexpected tag: %s\" % (current.tag),\n"
     ]
    }
   ],
   "source": [
    "data_path = Path(\"data/D5627-Dolan.docx\").expanduser().resolve()\n",
    "book = BookLoader(data_path=data_path)\n",
    "chapters: list[list[str]] = book.chapters"
   ]
  },
  {
   "cell_type": "code",
   "execution_count": 3,
   "id": "0cfd974a",
   "metadata": {},
   "outputs": [
    {
     "data": {
      "text/plain": [
       "False"
      ]
     },
     "execution_count": 3,
     "metadata": {},
     "output_type": "execute_result"
    }
   ],
   "source": [
    "torch.cuda.is_available()\n",
    "# TODO: Investigate this. Maybe has to do with exe install task you need Samuel for.\n",
    "#       Other solution is to run this directly in WSL as a .py"
   ]
  },
  {
   "cell_type": "code",
   "execution_count": 4,
   "id": "222b0f23",
   "metadata": {},
   "outputs": [
    {
     "name": "stderr",
     "output_type": "stream",
     "text": [
      "The following encoder weights were not tied to the decoder ['roberta/pooler']\n",
      "The following encoder weights were not tied to the decoder ['roberta/pooler']\n"
     ]
    }
   ],
   "source": [
    "device = 'cuda' if torch.cuda.is_available() else 'cpu'\n",
    "ckpt = 'mrm8488/camembert2camembert_shared-finetuned-french-summarization'\n",
    "tokenizer = RobertaTokenizerFast.from_pretrained(ckpt)\n",
    "model = EncoderDecoderModel.from_pretrained(ckpt).to(device)"
   ]
  },
  {
   "cell_type": "code",
   "execution_count": 5,
   "id": "48dafcc1",
   "metadata": {},
   "outputs": [],
   "source": [
    "def generate_summary(text):\n",
    "    inputs = tokenizer([text], padding=\"max_length\", truncation=True, max_length=512, return_tensors=\"pt\")\n",
    "    input_ids = inputs.input_ids.to(device)\n",
    "    attention_mask = inputs.attention_mask.to(device)\n",
    "    output = model.generate(input_ids, attention_mask=attention_mask)\n",
    "    return tokenizer.decode(output[0], skip_special_tokens=True)"
   ]
  },
  {
   "cell_type": "code",
   "execution_count": 6,
   "id": "b71b58cd",
   "metadata": {},
   "outputs": [],
   "source": [
    "# TODO: 1- Take out paragraphs starting with \"^exerCiCe \\d.\\d /$\" and ending with chapter_marker\n",
    "#        - Verify consistency of chapter_marker as an end bound\n",
    "# TODO: 2- Take out tables before summarizing, or figure out a way to extract useful info from them\n",
    "# TODO: 3- In the docx earch for: \"NOTE: LE BLOC CI-DESSUS N’EST PAS CAPTURÉ\""
   ]
  },
  {
   "cell_type": "code",
   "execution_count": 7,
   "id": "eb664411",
   "metadata": {
    "scrolled": true
   },
   "outputs": [
    {
     "name": "stdout",
     "output_type": "stream",
     "text": [
      "Stress, santé et travail: vue d'ensemble\n",
      "J'oublie ce que j'entends, je me rappelle ce que je vois, je comprends ce que je fais.\n",
      "CONFUCIUS\n",
      "/\tPeut-on concilier performance et bien-être au travail ?\n",
      "Quiconque a déjà travaillé au sein d'une entreprise connaît l'importance d'améliorer la productivité. Alors que pendant longtemps cette quête productiviste visait principalement à accroître la rentabilité de l'entreprise, force est de reconnaître que l'amélioration de l'efficience organisationnelle est maintenant nécessaire pour simplement assurer la pérennité de l'organisation. Pendant longtemps, les travailleurs, comme les organisations, se sont crus à l'abri de la concurrence mondiale; rares étaient donc les mesures incitatives mises en place pour accroître la productivité. Or trois facteurs ont, entre autres, rapidement transformé cette réalité:\n",
      "L'allongement des cycles de récession;\n",
      "La mondialisation des marchés et le dynamisme de la concurrence internationale;\n",
      "La pénurie de main-d'œuvre issue de l'évolution démographique.\n",
      "Les entreprises qui se rendent compte que leur survie est en jeu se sentent de plus en plus contraintes d'accroître leur productivité. Beaucoup d'entre elles doivent donc se soumettre à l'épreuve ultime de survie: affronter à la fois une situation économique complexe et une productivité suboptimale. Toute baisse de la productivité se répercute sur le niveau de vie des travailleurs, sur l'ensemble de la collectivité et sur la capacité concurrentielle de l'entreprise. Or cette quête de productivité survient à une époque\n",
      "où la main-d'œuvre, mieux formée qu'auparavant, cherche à maîtriser son travail par la participation. Les travailleurs ne veulent plus être considérés comme les rouages d'une mécanique de production; ils réclament de nouvelles approches managériales permettant de rehausser du même coup leur qualité de vie au travail et leur productivité1.\n",
      "Le présent chapitre porte sur certains changements organisationnels qui permettent d'améliorer la qualité de vie au travail sans compromettre la productivité de l'organisation. En fait, il permettra de considérer la qualité de vie et la santé psychologique au travail comme des leviers de maximisation de la performance, et non comme des antagonistes naturels. C'est d'ailleurs la vision qui est de plus en plus partagée par un bon nombre d'entreprises2.\n",
      "Par le passé, les efforts déployés pour accroître la productivité étaient axés sur les changements technologiques; avec le temps, ces tentatives ont eu un effet secondaire notable: la détérioration de la qualité de vie au travail chez un nombre croissant d'employés. En général, on demandait au personnel de travailler plus rapidement, d'être plus productif, de passer moins de temps à réfléchir et de programmer leurs activités professionnelles en fonction des technologies en place. Si cette approche a pu paraître efficace initialement, nous savons maintenant qu'elle ne l'est plus. Ainsi, les employés cherchent désormais à mieux contrôler leurs tâches, à exercer une latitude décisionnelle, à élargir leurs possibilités d'autodétermination, à trouver du sens dans leurs tâches et à s'investir dans tous les aspects de leur travail.\n",
      "C'est pourquoi, depuis près de 50 ans, on cherche à concevoir une approche plus globale afin d'accroître la productivité des entreprises sans compromettre le bien-être physique et psychologique de la main-d'œuvre. Cette approche repose particulièrement sur les notions de qualité de vie au travail (QVT) et de santé psychologique. Malgré les intentions louables et humanistes de ce mode de fonctionnement, force est de reconnaître que la qualité de vie au travail n'est évidemment pas le but ultime des organisations. Les entreprises ont pour objectifs stratégiques de survivre, de croître, de réaliser des bénéfices ou d'offrir des services de qualité, donc d'être productives. L'intérêt pour la qualité de vie au travail\n",
      "Leitão, J., Pereira, D. et Gonçalves, A. (2019). Quality of work life and organizational performance: Workers feelings of contributing, or not, to the organization's productivity, International Journal of Environmental Research and Public Health, 16, 1-18.\n",
      "Levet, P. (2013). Des risques psychosociaux à la qualité de vie au travail: équiper les acteurs pour négocier le travail, l'expérience de l'ANACT, Négociations, 1, 134.\n",
      "présuppose que cette amélioration se conjugue avec des gains pour la santé, le bien-être et la satisfaction des employés, et que ces derniers pourront alors, dans ce contexte, devenir plus productifs.\n",
      "Il est difficile de circonscrire les notions de qualité de vie au travail et de santé psychologique. Le présent chapitre traite d'un processus qui amène tous les membres de l'organisation à participer aux décisions qui concernent leur emploi en particulier et leur milieu de travail en géné- ral. Ce processus repose sur des voies de communication ouvertes et appropriées qui stimulent l'engagement au travail et la satisfaction professionnelle tout en réduisant le niveau de stress et d'épuisement. Essentiellement, la qualité de vie et la santé psychologique au travail sont associées à une culture organisationnelle ou à un style de gestion novateur qui nourrit un sentiment d'appartenance et la dignité des employés, les responsabilisent et leur donnent voix au chapitre. Généralement, l'organisation qui se distingue par sa qualité de vie au travail favorise la démocratie organisationnelle : les suggestions, les questions et les critiques y sont perçues comme autant de pistes pour l'amélioration. Dans\n",
      "ce genre de milieu, le désaccord constructif est considéré comme une marque d'intérêt pour l'organisation et non comme une critique. Les gestionnaires qui promeuvent ce type de participation font souvent jaillir des idées et des mesures propices à améliorer l'efficience et l'efficacité de fonctionnement de l'organisation, ce qui améliore à la fois les conditions et le climat de travail. Simplement dit, ce style de gestion considère que le plus grand expert de la tâche est celui qui l'effectue quotidiennement, bien plus que celui qui le supervise.\n",
      "La qualité de vie au travail (QVT) est un processus par lequel tous les membres d'une organisation, grâce à des voies de communication ouvertes et accessibles, influencent et commentent les décisions qui touchent leur emploi et leur milieu de travail, ce qui favorise l'engagement et la satisfaction du personnel et atténue la pénibilité de l'emploi. Le concept de qualité de vie au travail est une notion synthèse qui englobe à la fois des dimensions liées au stress, à la santé psychologique et aux attitudes, en prenant en considération les divers facteurs organisationnels qui les influencent3. Le style de gestion axé sur la QVT suscite chez les employés un sentiment de maîtrise et d'estime de soi, d'appartenance et de responsabilité. Les organisations qui offrent une bonne QVT encouragent la démocratie organisationnelle et accueillent favorablement les suggestions, les questions et les critiques susceptibles d'alimenter des améliorations de toutes sortes. Le mécontentement constructif, preuve d'un engagement du travailleur, y est perçu comme une opportunité d'amélioration organisationnelle plutôt que comme un ronchonnement nuisible et inapproprié. L'ouverture de la direction à de tels sentiments d'engagement favorise souvent l'émergence d'idées et d'actions propres à améliorer l'efficacité de l'organisation. Un environnement de travail de qualité implique par définition une organisation qui favorise la santé psychologique de ses travailleurs et qui ainsi leur permet, entre autres, de vivre moins de stress au travail, d'entretenir de meilleures relations interpersonnelles, d'atteindre de meilleurs niveaux de satisfaction, d'engagement et d'implication au travail4.\n",
      "Dupuis, G., Martel, J.-P., Voirol, C., Bibeau, L. et Hébert-Bonneville, N. (2009). La qualité de vie au travail: bilan des connaissances, Centre de liaison sur l'intervention et la prévention psychosociales (CLIPP).\n",
      "Ahmad, S. (2013). Paradigms of quality of work life, Journal of Human Values, 19, 73-82.\n",
      "La santé psychologique au travail (SPT) est l'une des résultantes les plus importantes d'une bonne qualité de vie au travail. Bien qu'il existe diffé- rentes façons de circonscrire cette notion, l'Organisation mondiale de la santé (OMS)5 considère que la santé psychologique est un « état de bien- être dans lequel une personne peut se réaliser, surmonter les tensions normales de la vie, accomplir un travail productif et contribuer à la vie de sa communauté». Transposer à l'environnement de travail, la santé psychologique peut être associée à la capacité d'adaptation de l'individu à son travail et au milieu dans lequel celui-ci est réalisé. Ainsi, la SPT est un concept intégrateur qui comprend tant des indicateurs liés au bien-être au travail que des indicateurs liés à la détresse. Parmi les indicateurs d'une bonne santé psychologique d'un travailleur, on retrouve son niveau de motivation au travail, son engagement organisationnel, sa satisfaction au travail, son estime de soi professionnelle et sa loyauté envers l'organisation, dont son intention de demeurer membre de l'organisation. D'ailleurs, des niveaux faibles de santé psychologique chez les travailleurs sont une préoccupation croissante dans de nombreux pays6.\n",
      "Peu importe sa nature, ou encore le nom qu'on lui accole, productivité, performance, rendement, efficacité ou efficience, les extrants seront meilleurs lorsque l'employé pourra travailler dans un environnement de qualité. Le travailleur offrira généralement des efforts supérieurs lorsque les paramètres de son environnement de travail répondent à ses besoins, à\n",
      "Santé mentale : renforcer notre action. Organisation mondiale de la santé, 2018. (https://www.who.int/fr/ news-room/fact-sheets/detail/mental-health-strengthening-our-response)\n",
      "Kotera, Y. et Vione, K. C. (2020). Psychological impacts of the new ways of working (NWW) : A systematic review, International Journal of Environmental Research and Public Health Review, 17, 1-13.\n",
      "ses aspirations, à ses désirs, à ses valeurs7. Pour ce faire, il faut cependant savoir conjuguer l'atteinte des objectifs organisationnels à ceux des travailleurs. Quoique l'incidence de la qualité de vie au travail sur la performance soit une évidence maintes fois démontrée scientifiquement, les conditions menant de l'une à l'autre demeurent un sujet de discussion. C'est l'élucidation de ces conditions qui est l'un des principaux objectifs de ce livre. La figure 1.1 présente les diverses ramifications du concept de qualité de vie au travail.\n",
      "/\tQu'est-ce que la qualité de vie au travail ?\n",
      "La qualité de vie au travail est un concept multidimensionnel et multifacette, une philosophie qui vise à améliorer la vie des employés d'une organisation et qui intègre diverses notions, dont celle de santé psychologique. Simplement dit, la qualité de vie au travail est un effort concerté afin de créer une « qualité de l'expérience humaine au travail8 ». Pour\n",
      "Boudrias, J. S., Desrumaux, P., Gaudreau, P., Nelson, K., Brunet, L. et Savoie, A. (2011). Modeling the experience of psychological health at work : The role of personal resources social-organizational resources, and job demands, International Journal of Stress Management, 18, 372-395.\n",
      "Walton, R. E. (1973). Quality of working life : What is it?, Sloan Management Review, 15, 11-21.\n",
      "atteindre cette cible, ses promoteurs recourent à des méthodes, des pratiques et des activités variées qui vont des processus complexes de changement continu mis de l'avant par le mouvement sociotechnique jusqu'au modelage des procédés cher aux tenants de la conception des systèmes et des théories de la contingence. Le concept de qualité de vie au travail peut s'exprimer en termes opérationnels et s'appliquer sous forme de programmes adaptés à la situation particulière d'une organisation. Certains de ces programmes ont une portée particulière et restreinte ; d'autres ont pour objectif d'opérer des changements multiples dans un large éventail de secteurs de l'entreprise. Pour bien comprendre le rôle des programmes de qualité de vie au travail, nous décrirons brièvement les liens de la QVT avec les autres domaines de la gestion en visitant certains concepts des théories de l'organisation du travail.\n",
      "Matière à réFlexion / Les trois dimensions de la qualité de vie\n",
      "La qualité de vie trouve son expression maximale dans ses aspects liés à la santé. Les trois dimensions qui structurent la qualité de vie sont:\n",
      "La dimension physique, soit la perception de l'état de santé physique, compris comme l'absence de tout malaise produit par une maladie ou par les effets négatifs de son traitement. Il n'y a pas de doute : la santé est un élément essentiel de la qualité de vie.\n",
      "La dimension psychologique, soit la perception des états cognitifs et affectifs tels que la peur, l'anxiété, le manque de communication, la perte d'estime de soi et l'incertitude face à l'avenir. Cette dimension englobe également les convictions personnelles et spirituelles, y compris le sens de la vie et les attitudes à l'égard du bien-être.\n",
      "La dimension sociale, soit la perception de la qualité des relations interpersonnelles et de l'adéquation des rôles sociaux, comme celui de citoyen, d'ami, de conjoint, de parent et, bien sûr, celui de travailleur.\n",
      "Bien que certains fassent remonter l'origine de la qualité de vie au travail aux travaux de l'École des relations humaines, il faut reconnaître qu'historiquement, le terme de qualité de vie au travail (QVT) tire sa source d'une série de conférences parrainées par le ministère du Travail des États-Unis et la Fondation Ford à la fin des années 1960 et au début de la décennie suivante. Ces conférences portaient sur un concept très populaire à l'époque, celui de l'aliénation des travailleurs.\n",
      "Bon nombre des facteurs d'aliénation et de mécontentement des travailleurs étaient réunis dans la tristement célèbre usine de General Motors à Lordstown, en Ohio. Cette usine moderne et automatisée avait été conçue par des ingénieurs en mécanique automobile à la fin des années 1960 dans le but de maximiser l'efficience de la production d'un modèle de petite voiture bon marché. General Motors cherchait ainsi à concurrencer les constructeurs étrangers de voitures compactes qui commen- çaient à accaparer des parts du marché américain de l'automobile. L'usine de Lordstown commença alors à produire un modèle qui se voulait concurrentiel, la Chevrolet Vega. Grâce à l'automatisation, la vitesse de sa chaîne de montage dépassait considérablement celle des usines plus anciennes, à telle enseigne que Lordstown en vint à symboliser le « blues du col bleu», c'est-à-dire le mécontentement et l'aliénation des travailleurs à l'ère industrielle de l'automobile, cristallisant du même coup le militantisme de la jeune classe ouvrière de l'époque. Les souvenirs de quelques travailleurs de l'automobile de Lordstown ont été recueillis dans le cadre d'un projet d'histoire orale mené à l'Université d'État de Youngstown. Jim Graham, un militant syndical né en Grèce, y reprenait à son compte la formule consacrée selon laquelle les travailleurs de l'automobile n'avaient plus besoin de cerveau pour exécuter leurs tâches. Interrogé sur les grèves sauvages du début des années 1970, Graham raconta que les cadres avaient dit un jour aux ouvriers: « Quand vous venez à l'usine, laissez votre cerveau à la porte et n'entrez qu'avec votre corps, parce qu'on n'a besoin de rien d'autre. Laissez votre cerveau en entrant, nous vous dirons quoi faire, comment le faire, quand manger, quand prendre un café. »\n",
      "Les participants à cette série de conférences ont conclu qu'un emploi ne se borne pas simplement à un salaire, à une répétition de tâches routinières et à une exécution des directives. Pour eux, la notion d'emploi dépasse la simple prestation de travail et englobe d'autres concepts : une certaine participation aux processus décisionnels ; une plus grande autonomie quant aux horaires de travail quotidiens ; enfin, une nouvelle conception des tâches, des systèmes et des structures de l'organisation, qui stimule l'apprentissage chez les employés et favorise un niveau satisfaisant d'intérêt et d'engagement du personnel à l'égard des enjeux du travail9.\n",
      "Martel, J.-P. et Dupuis, G. (2006). Quality of work life : Theoretical and methodological problems and presentation of a new model and measuring instrument, Social Indicators Research, 77, 333-368.\n",
      "Le terme qualité de vie au travail est longtemps demeuré ambigu, jusqu'à ce qu'une poignée de sociétés, notamment Procter & Gamble et General Motors aux États-Unis ainsi que Volvo en Scandinavie, manifestent leur intérêt de mettre ce concept en pratique. La mise en œuvre, dans leurs nouvelles usines, de programmes destinés à améliorer la qualité de vie au travail produisit des résultats positifs, à la suite desquels d'autres sociétés, dont Ford, lancèrent des initiatives semblables à la fin de la même décennie, obtenant elles aussi de bons résultats. Puis au début des années 1980, les États-Unis connaissent une profonde récession. La concurrence asiatique, qui offre des produits bon marché de grande qualité, se met à inquiéter sérieusement les dirigeants des sociétés américaines, ce qui amène bon nombre d'entre eux, de même que divers organismes publics, à opter pour la qualité et à instaurer des programmes de qualité de vie au travail.\n",
      "Malgré un historique riche et varié, malgré maintes tergiversations théoriques et conceptuelles, la notion de qualité de vie a traversé le temps et demeure encore aujourd'hui pleinement d'actualité puisqu'elle favorise\n",
      "le dialogue entre l'organisation, ses employés et la communauté. La qualité de vie au travail interpelle nécessairement l'ensemble des acteurs sociaux : les entreprises, les gestionnaires, les travailleurs, l'État, les syndicats, etc. D'ailleurs, plusieurs auteurs en appellent à un renouveau de la qualité de vie au travail dans les organisations10.\n",
      "Il y a bien des façons de définir la qualité de vie au travail, disons que c'est un concept dont les frontières sont difficiles à tracer clairement11. Ainsi, le concept de QVT peut inclure, entre autres, la rémunération, les avantages collectifs, les occasions de formation, les congés, la stabilité de l'emploi et, bien sûr, l'équilibre emploi-famille12. Cependant, une façon plus intégrative et holistique de circonscrire la QVT combine quatre éléments inspirés des attentes et de points de vue exprimés par les travailleurs eux-mêmes à l'égard de leur entreprise:\n",
      "Le sentiment d'être soutenu et bien traité par l'entreprise. Certaines entreprises offrent à leurs employés un train de services personnels qui s'ajoutent à leurs avantages sociaux. En Belgique, par exemple, il est de pratique courante d'offrir des services juridiques gratuits aux employés en instance de divorce.\n",
      "Le souci qu'a l'entreprise de faciliter la vie de ses employés. En Suède, des sociétés ont conclu avec certains de leurs fournisseurs des ententes permettant à leurs employés de faire des achats par l'intranet de l'entreprise et de profiter de rabais considérables et de la livraison gratuite des biens à domicile ou au lieu de travail.\n",
      "La nécessité de combler ses besoins personnels. De plus en plus, les employés demandent que leur vie personnelle soit prise en compte au travail. L'entreprise peut alors leur offrir un éventail d'activités qui contribuent à réduire le stress chez le personnel et à accroître la productivité. On pense par exemple aux possibilités de télétravail ou même à la mise à disposition jour et nuit d'une ligne d'aide aux ressources humaines.\n",
      "La nécessité de maintenir de bonnes relations interpersonnelles. La reconnaissance par l'entreprise de chacun de ses employés contribue à maintenir de bonnes relations de travail, non seulement avec la direction, mais aussi entre collègues.\n",
      "Warhurst, C. et Knox, A. (2020). Manifesto for a new quality of working life, Human Relations, 1-18.\n",
      "Klein, L. L., Pereira, B. A. D. et Lemos, R. B. (2019). Quality of working life : Parameters and evaluation in the public service, Human and Social Management, 20, 3-33.\n",
      "Jebli, F. et Tremblay, D.-G. (2016). La QVT au Québec : enjeux, attentes et réalités organisationnelles, Revue des conditions de travail, ANACT, 33-42.\n",
      "Il y a bien des orientations susceptibles d'améliorer la qualité de vie au travail et les stratégies d'implantation doivent s'ajuster à chaque contexte organisationnel. Cependant, parmi les stratégies fréquemment observées, on retrouve : la réingénierie des emplois et la réorganisation du travail, la participation des employés, le soutien au développement de carrière, l'amélioration des relations interpersonnelles, les équipes de travail autogérées, une promotion de la reconnaissance, une flexibilité des horaires de travail et une culture organisationnelle axée vers la collaboration13.\n",
      "/\tQualité de vie et stress au travail\n",
      "La qualité de vie au travail entraîne d'importantes répercussions sur l'état émotionnel ainsi que sur la possibilité pour l'individu d'atteindre un équilibre socioaffectif. Bien des gens considèrent le travail comme l'une des activités fondamentales de l'existence humaine, celle qui nous permet de produire les biens et les services indispensables à la vie moderne, celle qui régule nos temps sociaux, celle qui nous permet de nous intégrer au tissu social que représente notre réseau de relations professionnelles.\n",
      "En offrant des emplois adéquats et épanouissants, les sociétés amé- liorent la qualité de vie au travail et sociale; les travailleurs obtiennent ainsi la possibilité de satisfaire les besoins, les aspirations et les valeurs qu'ils recherchent dans leur vie professionnelle, familiale et sociale.\n",
      "Étant donné le nombre d'heures que nous passons à travailler, il importe d'avoir conscience des répercussions et des conséquences du travail sur notre vie. Ce constat vaut pour n'importe quel type de relations de travail, que ce soit au sein d'un groupe de professionnels, d'une firme d'experts-conseils, d'une microentreprise ou d'une grande société. Certes, la dynamique des relations interpersonnelles diffère d'un milieu à l'autre, compte tenu du lien étroit entre la structure organisationnelle et ses processus psychosociaux inhérents.\n",
      "De tout temps, les travailleurs ont aspiré à établir des relations personnelles positives, dans leur vie en général, et particulièrement dans leur milieu de travail. Les personnes versées dans l'art de combiner travail et amitié - la camaraderie - sont autant d'exemples tirés du quotidien qui nous aident à renouveler et à remodeler notre confiance et notre espoir dans la possibilité d'établir des relations humaines positives et gratifiantes\n",
      "Ahmad, S. (2013). Paradigms of quality of work life, Journal of Human Values, 19, 73-82.\n",
      "au travail. Comme le considérait Aristote, l'être humain est un animal grégaire et l'actualisation positive de cette grégarité est pour plusieurs une condition essentielle de bien-être.\n",
      "Nous devons garder à l'esprit que le nœud du problème se situe dans la perception d'un danger ou d'une perturbation considérée comme une menace au même titre qu'une catastrophe naturelle, une pandémie ou une perte émotionnelle (décès d'un être cher, séparation, perte d'emploi, retraite). Aujourd'hui pourtant, le stress lié au travail revêt un sens particulier. Chacun peut avoir sa propre perception des stimuli ou des perturbations associés à son lieu de travail: ce que certains considèrent comme un défi qui stimule l'amélioration et le développement personnels est perçu par d'autres comme une terrible menace. Cette distinction prend toute son importance lorsqu'il s'agit d'évaluer l'estime de soi, la tolérance à la frustration, l'optimisme, la créativité et le sentiment de sécurité - interne et externe - obtenus, entre autres, grâce aux réseaux de soutien social, que ce soutien soit émotionnel, d'estime, informatif ou matériel.\n",
      "Si l'on transpose cette situation au travail et à sa relation avec la qualité de vie, il tombe sous le sens que la présence d'exigences de travail démotivantes, insatisfaisantes, démoralisantes peut se répercuter sur le rendement et perturber par un processus d'entraînement, voire de géné- ralisation, l'évolution de la vie personnelle, familiale et sociale. L'équilibre entre le travail et la famille, l'existence d'un bon climat de travail, un environnement de travail psychologiquement sain, la mise en place de programmes de prévention des risques et un faible taux d'accidents et de maladies professionnelles sont autant de facteurs qui réduisent au minimum la prévalence du stress chronique et pathologique.\n",
      "Matière à réFlexion\n",
      "Dans l'analyse des conditions de travail, faire référence au stress et aux risques psychosociaux traduit une démarche de prévention. Par contre, parler de qualité de vie au travail suppose de s'inscrire dans une visée de promotion de la santé au travail. Ce renversement de paradigme peut paraître difficile et incertain, mais il est indispensable quand on cherche à créer un environnement physique et psychologique favorable, en privilégiant la cohérence et la continuité, qui passe par une coconstruction\n",
      "collective et qui engage l'ensemble des acteurs de l'entreprise pour atteindre le bien-être et la satisfaction des individus, pour que le travail ne soit pas une souffrance, mais créateur de valeurs individuelles et sociales ainsi qu'un vecteur de développement de l'individu.\n",
      "Source : Salès-Wuillemin, E. (2018). Le stress, les risques psychosociaux et la qualité de vie au travail : des concepts au cœur de la prévention et de la promotion de la santé, Revue ADSP, (103), 28.\n",
      "De nos jours, il est question de nouvelles sources de stress liées au travail telles que la précarité d'emploi, l'hyperactivité dans les trajectoires de carrière, l'avènement technologique, les préoccupations environnementales, les risques sanitaires, pour n'en nommer que quelques-uns. D'une part, la précarité issue d'un contrat psychologique transactionnel entre l'employeur et l'employé compromet les projets personnels et familiaux à long terme; d'autre part, elle fait obstacle à la loyauté et à l'engagement, à la socialisation, à la solidarité et tout particulièrement à la confiance mutuelle. S'ajoutent à cela d'autres facteurs tels que le besoin de changement permanent, une dépendance extrême à l'informatique (le virtuel remplaçant les contacts interpersonnels) et la difficulté de trouver un moment de quiétude au milieu des événements techniques, économiques et culturels qui se succèdent à un rythme effréné.\n",
      "Le lien de concomitance que l'on observe aujourd'hui entre la fragmentation des sphères personnelle, familiale et professionnelle, d'une part, et la disparition des sphères spirituelle et culturelle des lieux de travail, d'autre part, concourt à accentuer la perte de sens du travail. Depuis quelques décennies, le rythme de tous les aspects de la vie s'accélère et expose les travailleurs à des pressions accrues. On s'attend à ce qu'ils produisent un travail de meilleure qualité en moins de temps et en consommant moins de ressources.\n",
      "Les effets délétères du stress sur la santé acquièrent de plus en plus de preuves. D'après la sixième enquête européenne sur les conditions de travail menée par la Fondation européenne pour l'amélioration des conditions de vie et de travail, l'organisation du travail a subi des transformations en Europe. Entre autres, selon cette étude, 33 % des travailleurs de l'UE devaient respecter des délais très courts et travailler à une cadence élevée; 57 % des travailleurs avaient des horaires de travail irréguliers; plus d'un travailleur sur cinq (22 %) devait travailler durant son temps libre pour satisfaire aux exigences de son travail plusieurs fois par mois\n",
      "et environ 16 % des travailleurs déclaraient être exposés à des incivilités et à des incidences de violence au travail. Globalement, les résultats de cette enquête illustrent:\n",
      "l'importance des pratiques des entreprises et des lieux de travail pour préserver la santé et la sécurité (en incluant notamment les risques psychosociaux), améliorer l'équilibre entre vie professionnelle et vie privée, soutenir le déroulement des carrières, favoriser l'utilisation et le développement des compétences, gérer la charge de travail et concevoir des postes de travail intéressants pour ceux qui les occupent14.\n",
      "Il semble clair que le traitement des problèmes de santé psychologique représente encore un enjeu organisationnel prioritaire et que l'amélioration de la qualité de vie au travail demeure un défi contemporain.\n",
      "Les avis sont partagés quant à la nécessité pour les organisations de se soucier des émotions de leurs employés. Pour résumer la question, voici trois raisons qui devraient inciter les cadres et les dirigeants d'une organisation à tenir compte des émotions vécues par leurs employés puisqu'elles sont susceptibles de nourrir le stress et la tension:\n",
      "Du point de vue de la qualité du travail, les travailleurs éprouvent davantage de satisfaction lorsque leur milieu de travail est sécuritaire et confortable.\n",
      "Les gestionnaires devraient s'efforcer de réduire le stress professionnel, un facteur qui produit des résultats négatifs. Les spécialistes en santé mentale estiment que 10 % des travailleurs souffrent de dépression ou d'un niveau élevé de stress, ce qui finit par nuire à leur rendement.\n",
      "Le stress a d'énormes coûts sociaux et économiques; on estime que les dépenses occasionnées par les maladies liées au stress au travail atteignent 25,4 milliards d'euros par an en Europe, entre 17 et 36 milliards de dollars au Canada et 300 milliards de dollars aux États-Unis15.\n",
      "Rapport de la sixième enquête européenne sur les conditions de travail - synthèse exécutive (2015). Fondation européenne pour l'amélioration des conditions de vie et de travail.\n",
      "Hassard, J., Teoh, K., Cox, T., Dewe, P., Cosmar, M., Gründler, R., Flemming, D., Cosemans, B. et Van den Broek, K. (2014). Calculating the Cost of Work-Related Stress and Psychosocial Risks, European Agency for Safety and Health at Work.\n",
      "/\tStress, santé psychologique et travail\n",
      "Selon la définition qu'en donne l'Organisation mondiale de la santé (OMS), la promotion de la santé englobe toutes les mesures qui permettent aux personnes, aux groupes et aux organisations de mieux maîtriser les facteurs de risque pour leur santé. Ces mesures ont pour objectif d'améliorer la santé des personnes, des groupes, des organisations et des collectivités. Ainsi, la santé psychologique implique la présence de symptômes positifs (p. ex. bien-être) et l'absence de symptômes négatifs (p. ex. détresse), la santé et la maladie n'étant pas des pôles nécessairement opposés sur un même continuum16.\n",
      "à la une / Pour un milieu de travail stimulant\n",
      "Si ça ne va pas bien au bureau, il y a de fortes chances que cela entraîne des répercussions sur la vie personnelle. Il est par ailleurs encourageant d'observer que les entreprises se préoccupent davantage du bonheur de leurs employés depuis quelques années. Il est même devenu assez fréquent qu'une compagnie fasse une publicité non plus axée sur la qualité d'un produit X, mais plutôt sur le fait qu'elle est un bon employeur, une tendance de plus en plus à la mode.\n",
      "Avoir la chance de travailler dans un milieu qui nous anime, nous stimule et facilite notre lever matinal, ce n'est pas donné à tous. Or, avec un peu de volonté et d'imagination, il est possible de transformer les labeurs du quotidien en un environnement professionnel valorisant et agréable qui stimule l'ambition. De même, les employeurs en quête de productivité et d'amélioration du taux de rétention de leurs travailleurs auraient intérêt à s'interroger sur l'ensemble des aspects - tant positifs qu'irritants - qui compose[nt] une journée au boulot.\n",
      "La capacité à innover d'une entreprise repose sur ses ressources humaines. Il est par conséquent primordial de porter une attention particulière à l'environnement dans lequel les gens travaillent, ce qui ne manquera pas d'influencer leur degré de créativité.\n",
      "Si autant de compagnies investissent temps et ressources dans la planification et l'aménagement d'un espace de travail confortable et spacieux, c'est qu'elles sont convaincues qu'il y a d'importants gains en\n",
      "Boudrias, J. S., Desrumaux, P., Gaudreau, P., Nelson, K., Brunet, L. et Savoie, A. (2011). Modeling the experience of psychological health at work : The role of personal resources, social-organizational resources, and job demands. International Journal of Stress Management, 18, 372-395.\n",
      "performance à réaliser. [De plus], l'implantation d'une salle de repos avec une aire de jeux, par exemple, permet aux employés de réellement décrocher et de se ressourcer durant leurs pauses, tout en tissant des liens entre eux, une avenue très populaire chez les PME. L'aménagement d'un salon avec divertissements n'est pas une folle dépense d'un jeune dirigeant écervelé, mais doit plutôt être perçu comme un investissement payant à court, à moyen et à long terme afin de faciliter son recrutement et favoriser son taux de rétention.\n",
      "Nul besoin d'engager de folles dépenses pour redessiner les espaces de travail si les budgets ne s'y prêtent pas. De petits gestes peuvent suffire à motiver les troupes. Pensons à la décoration des espaces communs et de l'entrée des bureaux à cloisons, un moyen ludique d'encourager chacun à exprimer sa créativité et à personnaliser le lieu où, après tout, il passe le plus clair de son temps. Le fait de souligner les anniversaires par un gâteau et quelques guirlandes est aussi une astuce qui garantit une valorisation des employés et une manière simple de rompre avec la monotonie de la routine.\n",
      "Finalement, malgré l'ampleur des tâches à accomplir et l'importance de respecter les délais, un peu d'humour et de complicité entre collègues sont susceptibles d'améliorer les performances. Ne perdons jamais de vue qu'un milieu de travail où l'on rit est un endroit où l'on est heureux !\n",
      "Source : Jobillico, 31 mars 2016. <https://www.envirocompetences.org/nouvelles/pour-un-milieude-travail-stimulant/>, consulté le 22 octobre 2021.\n",
      "On peut donc définir la promotion de la santé comme un processus qui permet à chacun d'élever son niveau d'estime de soi en ce qui a trait à sa santé. En ce sens, la santé représente une ressource de la vie usuelle qui aide les personnes et les groupes à combler leurs attentes et leur désir de passer à l'action, de mobiliser les autres et de changer leur monde. La promotion de la santé en milieu de travail suppose un effort concerté des entreprises, des travailleurs, des syndicats et de l'ensemble de la société dans le but d'améliorer la santé et le bien-être des individus au travail. Cette promotion se fait à travers un ensemble de mesures, dont:\n",
      "Améliorer l'organisation des tâches et l'environnement de travail;\n",
      "Encourager une participation active aux processus organisationnels;\n",
      "Promouvoir le développement professionnel et personnel.\n",
      "Le fait de disposer d'une main-d'œuvre active, en santé, motivée et qualifiée constitue un atout essentiel pour les entreprises du xxie siècle. De plus en plus, les observations soutiennent que l'amélioration de la santé au travail est un facteur clé de l'efficacité et de la capacité concurrentielle d'une entreprise, puisqu'une part des avantages compétitifs d'une organisation réside intrinsèquement dans les caractéristiques de ses ressources humaines. Dans les entreprises novatrices, la qualité de vie au travail et la qualité des produits ou des services font partie intégrante d'un même alignement stratégique.\n",
      "La promotion de la santé en milieu de travail passe inévitablement par une réduction du stress professionnel; le stress occupationnel étant une composante importante de la qualité de vie au travail17. Elle a pour objectif de maximiser la présence des facteurs qui favorisent la santé du personnel. L'atteinte de cet objectif passe par une amélioration des conditions de travail, l'incitation des travailleurs à participer et le soutien des compétences professionnelles. Les approches et les procédés méthodologiques comptent parmi les principaux éléments nécessaires à la promotion de la santé au sein de l'entreprise. Pour obtenir des valeurs de référence, on mesure la charge de travail et ses effets subjectifs sur le bien-être par\n",
      "divers moyens, notamment les questionnaires,\n",
      "Le stress est une cause directe ou un catalyseur de plusieurs des maladies psychologiques et physiologiques les plus\n",
      "courantes et les plus dommageables pour l'humain.\n",
      "les outils de détection des facteurs de risque pour la santé et les « cercles de santé». À l'instar des traditionnels cercles de qualité sur lesquels ils se fondent, les cercles de santé donnent à chaque employé l'occasion de participer, à titre d'expert dans son domaine, au processus de réduction du stress associé à ses propres fonctions.\n",
      "Il convient de mentionner que les épisodes de stress courts ou peu fréquents, qui apparaissent ponctuellement dans les entreprises, comportent peu de risques pour la santé. Mais en présence de situations stressantes continues, l'organisme demeure dans un état d'alerte constant qui accélère l'usure des systèmes biologiques. À la longue, cet état d'alerte peut mener à l'épuisement ou occasionner des troubles, en plus d'affaiblir gravement les mécanismes de défense de l'organisme. Le risque de maladie ou d'accident s'en trouve donc alors accru.\n",
      "Ahmad, S. (2013). Paradigms of quality of work life, Journal of Human Values, 19, 73-82.\n",
      "Au cours des 20 dernières années, nombre d'études ont porté sur le lien entre le stress professionnel et diverses maladies. D'après ce que révèlent ces études, les changements d'humeur, la perturbation des cycles du sommeil, les troubles gastro-intestinaux, les céphalées et les changements de comportements sociaux envers la famille et les amis sont des problèmes fréquemment associés au stress et qui se développent rapidement. Ces symptômes précoces du stress lié au travail sont habituellement faciles à reconnaître. Mais le lien entre le stress professionnel et l'apparition de maladies chroniques est plus difficile à établir, car ces affections se développent lentement et peuvent dépendre d'une multitude d'autres facteurs. Cependant, les données sur le sujet nous portent de plus en plus à considérer que le stress joue un rôle dans l'apparition de divers problèmes de santé, notamment les troubles cardiovasculaires, musculosquelettiques et psychologiques.\n",
      "/\tGrands paradoxes du stress\n",
      "Le stress est sans aucun doute l'un des concepts psychologiques les mieux connus par la population en général, et par les travailleurs en particulier. Cela est tellement vrai que la notion de stress est souvent utilisée à tort et à travers et est un terme largement galvaudé. La connaissance d'un concept ne veut pas dire sa compréhension, et on constate cela réguliè- rement dans les conversations mondaines avec des personnes de notre entourage. Pourtant, tous affirment, sans trop de gêne, bien saisir les particularités de cette notion complexe qu'est le stress. Nous présentons ci-après trois paradoxes qui nous semblent bien dépeindre cette ambivalence quant à la notion de stress ; trois paradoxes sociaux et organisationnels qu'il convient de déboulonner.\n",
      "/\tPremier paradoxe - la banalisation sociale du phénomène\n",
      "Le stress est, de toute évidence, dans les sociétés industrialisées, un enjeu majeur de santé publique. Que son origine soit liée à l'environnement de travail, qui est l'environnement le plus stressogène pour la plupart des individus, ou à d'autres sphères d'activités, le stress est la cause d'un nombre croissant de problèmes de santé physique et psychologique. Tous le reconnaissent, le stress coûte des milliards de dollars annuellement en raison des soins de santé, de l'improductivité ou encore des absences qu'il génère. Plusieurs sociétés ont mis en place des programmes de pré- vention, de sensibilisation et d'intervention afin de contrer ce fléau qui\n",
      "met en péril le bon fonctionnement et le développement social d'un nombre grandissant de pays. Comme plusieurs le mentionnent, le stress est le mal du siècle.\n",
      "Malgré cet état de fait, force est de reconnaître qu'on banalise encore trop souvent le phénomène. À titre d'exemple, il convient de décrier une marchandisation du stress, où le stress est parfois perçu comme une bonne occasion commerciale. On retrouve la preuve de cela dans les multiples produits actuellement sur le marché auxquels on accole des propriétés antistress. Des chemises n'ayant pas besoin de repassage, aux souliers offrant un bon confort, en passant par nombre de boissons dites relaxantes, toutes les occasions sont bonnes pour commercialiser ce grave fléau social en accolant des propriétés antistress à des produits de tout acabit. L'appellation antistress n'est soumise à aucune législation obligeant les promoteurs à faire une quelconque démonstration de l'efficacité de leur produit. Aucune vérification, aucun test clinique, aucune preuve n'est nécessaire et tout un chacun peut, s'il considère que cela moussera ses ventes, apposer sur son produit l'étiquette « antistress».\n",
      "Bien que le stress soit un fléau social, un mal qui touche un nombre important de personnes, il y a une banalisation des solutions offertes aux individus pour faire face aux problématiques qui en découlent. Si votre travail est trop stressant, si votre vie génère trop d'anxiété, pas de problème… certains proposent sans gêne nombre de produits capables de corriger miraculeusement la situation. Cette marchandisation est dangereuse, et il n'y a aucun avantage à banaliser les solutions à cette grave calamité sociale.\n",
      "/\tDeuxième paradoxe - l'absence d'une réelle volonté d'intervention\n",
      "Malgré les vives tensions et les pressions psychologiques croissantes vécues chaque jour au travail, on persiste à associer la santé au travail principalement à la sécurité et à l'hygiène. Pourtant, le contexte fluctuant dans lequel les organisations évoluent actuellement et l'incertitude du marché du travail avec laquelle les entreprises doivent composer ont des effets directs sur le bien-être et la santé psychologique de leurs travailleurs. Les effets du stress sur la santé sont de plus en plus visibles et évidents18. Ainsi, pour efficacement s'attaquer aux problèmes de santé actuels\n",
      "Tran, C. T. H., Tran, H. T. M., Nguyen, H. T. N., Mach, D. H., Phan, H. S. P. et Mujtaba, B. G. (2020). Stress management in the modern workplace and the role of human resource professionals, Business Ethics and Leadership, 4, 26-40.\n",
      "des travailleurs, il faut décloisonner la notion de santé au travail afin qu'elle englobe non seulement le bien-être physique, mais, autant et également, le bien-être psychologique. Il y a lieu de reconnaître que dans des économies plus axées vers le savoir, la traditionnelle pénibilité physique du travail devient de plus en plus une pénibilité psychologique.\n",
      "Les opinions divergent sur l'importance pour l'organisation de se soucier des émotions et des états d'âme de son personnel. Les modèles traditionnels de gestion ancrés dans des principes de rationalité pure sous-estiment l'importance et la place des émotions dans les processus décisionnels et productifs. Les nouveaux modèles de gestion reconnaissent que les émotions sont un facteur incontournable et nécessaire à une saine gestion organisationnelle. La reconnaissance de l'importance de notions, tels la passion au travail, le courage managérial ou encore l'intelligence émotionnelle, permet d'entrevoir le rôle essentiel de la vie affective tant pour les gestionnaires que pour les employés. Généralement, on avance quatre motifs qui devraient inciter les dirigeants et les gestionnaires à intégrer les aspects émotionnels dans leur mode de gestion:\n",
      "Les travailleurs ressentent davantage de satisfaction lorsque leur milieu de travail est sécuritaire et confortable, ce qui accroît la qualité de leur travail.\n",
      "Le stress professionnel entraîne des effets délétères qui ont une incidence directe sur le rendement et la productivité.\n",
      "Le stress coûte très cher à l'entreprise.\n",
      "Les organisations commencent à être tenues solidairement responsables du stress de leurs employés et de ses conséquences éventuelles sur leur santé, dans plusieurs pays, par le biais de diverses législations.\n",
      "Aujourd'hui, nous avons des données probantes qui démontrent que le stress est une cause directe ou un catalyseur des troubles psychologiques et physiologiques les plus courants et les plus graves qui affligent les pays industrialisés ou en développement : les maladies cardiovasculaires, le diabète, l'asthme, l'hypertension, l'ostéoporose, l'anxiété, la dépression, l'insomnie, les troubles cognitifs ou le vieillissement prématuré. Dans le monde de la santé et de la sécurité au travail, à l'échelle internationale et plus particulièrement en Europe, on assiste depuis quelques années à l'émergence d'études et d'analyses de ce qu'on appelle les « nouveaux risques», dont plusieurs sont considérés comme étant de nature psychosociale.\n",
      "Il ne faut pas oublier que le rôle des organisations est double en matière de santé psychologique au travail. Les entreprises doivent d'abord mettre en place des environnements de travail exempts de risques psychosociaux, des environnements qui ne mettent pas à risque la santé psychologique de leurs travailleurs. Mais aussi, les organisations ont la responsabilité sociale d'être des vecteurs d'amélioration de la santé psychologique. Le travail est une activité devant favoriser l'épanouissement, le développement et l'émancipation de la personne. Une organisation limitant les risques psychosociaux est le minimum requis ; une organisation permettant aussi à ses travailleurs de cultiver leur santé psychologique est l'idéal.\n",
      "/\tTroisième paradoxe - l'écart entre la connaissance et l'action\n",
      "On s'intéresse au stress au travail depuis plus de 40 ans. En fait, dès la découverte du stress en 1936, les chercheurs du domaine du travail ont rapidement transposé la notion de stress dans l'environnement du travail afin de comprendre les tenants et les aboutissants de cet état dans le contexte organisationnel. Ainsi, à partir des années 1970, nombre d'observations et de modélisations ont été formulées afin de saisir la réalité du stress dans les balises de l'entreprise. Cet intérêt des chercheurs allait alors de pair avec les préoccupations des gestionnaires en matière de qualité de vie au travail, et par la suite de bien-être et de santé psychologique au travail. Nous possédons actuellement un éventail de cadres explicatifs et d'outils d'intervention permettant de développer des programmes organisationnels efficaces afin de minimiser les stresseurs ainsi que les conséquences du stress. Notre compréhension des rouages de ce phénomène, bien qu'encore imparfaite, est très avancée et les sciences organisationnelles offrent divers moyens fiables et valides de contrer le stress au travail et ses incidences sur la santé.\n",
      "Matière à réFlexion\n",
      "Lorsque le contexte concurrentiel est rude, on a tendance à penser qu'investir dans la qualité de vie au travail est une perte de temps et d'argent. Il est alors tentant d'argumenter en mettant en avant la limitation des coûts indirects liés à l'absentéisme, au turnover [roulement du personnel], au mauvais climat social. Si l'amélioration de la QVT peut en effet répondre à ces problématiques, il apparaît essentiel de ne pas se\n",
      "limiter à cet argument défensif. Lorsqu'elle est articulée aux enjeux stratégiques de l'entreprise, la prise en compte des enjeux de santé et de qualité de vie au travail permet au contraire d'accompagner le développement ou la mise en œuvre de nouveaux projets structurants. D'où l'importance de dépasser les seuls indicateurs de coûts et créer des indicateurs aptes à valoriser le travail (p. ex. degré d'autonomie, accès à la formation, ressenti des salariés sur les changements mis en place) et [les appréhender] comme une source de valeur et de développement.\n",
      "Source : Agence nationale pour l'amélioration des conditions de travail (ANACT) (2016). 10 questions sur… les indicateurs de santé et qualité de vie au travail.\n",
      "Pourtant, il faut reconnaître que la situation dans les organisations ne s'améliore guère. En fait, les diverses études récentes sur le sujet constatent que la situation s'aggrave et qu'on observe un accroissement constant du stress professionnel au cours des dernières décennies19. Bien que la réalité organisationnelle mute constamment et que de nouveaux stresseurs (p. ex. avènement technologique, crise environnementale, urgences sanitaires) apparaissent régulièrement, il appert que tant les anciens que les nouveaux stresseurs minent toujours la santé psychologique des travailleurs. Cet accroissement du stress observé lors de plusieurs enquêtes est assurément un constat d'échec, échec à la fois causé par le manque de volonté des gestionnaires de vraiment s'attaquer aux problèmes du stress, échec pouvant être aussi attribué aux lacunes pédagogiques et au manque de vulgarisation des savoirs scientifiques. Au risque de se répéter, aucun contexte de travail ne pourra être totalement exempt de stress, mais les indices exagérément élevés de stress qu'on observe dans nombre d'entreprises peuvent, grâce aux connaissances jusqu'à maintenant acquises, être ramenés à des niveaux bien plus acceptables pour tous. Il y a donc un paradoxe évident entre la situation prévalant encore dans les entreprises et les grandes connaissances scientifiques que l'on possède afin de faire face au stress.\n",
      "Awino, Z. B., Ogutu, M., Musyoka, M. et Kenyatta, J. (2018). Work culture: Stress management in reducing stress and improving organizational performance, China-USA Business Review, 17, 144-154.\n",
      "/\tPost-scriptum\n",
      "Dans la plupart des entreprises, l'organisation du travail subit encore l'influence des modèles de gestion traditionnels qui mettent l'accent prioritairement sur l'atteinte d'objectifs économiques. Cependant, la complexité des changements d'ordre social, économique et culturel fait naître une nouvelle toxicologie du milieu de travail: le stress professionnel. La mondialisation des marchés et la concurrence féroce amènent les entreprises à prendre conscience que leur compétitivité passe par l'innovation et par leur capacité à répondre tant aux besoins de leur clientèle qu'à ceux de leur personnel, bien que plusieurs cherchent encore le meilleur moyen d'y arriver.\n",
      "Qui plus est, les travailleurs sont de plus en plus scolarisés et de mieux en mieux formés ; ils ont de nouvelles attentes ; le travail ne se borne plus à être un moyen de gagner raisonnablement sa vie. Les travailleurs désirent un emploi intéressant, signifiant, stimulant et valorisant20. Ils insistent de plus en plus pour participer à la prise de décision, ce qui oblige les chefs d'entreprise à revoir et à remodeler les postes pour répondre à ces exigences.\n",
      "Nous vivons à une époque où il est de plus en plus difficile de séparer la vie professionnelle et la vie personnelle; les familles éclatent, les gens vivent de plus en plus seuls et l'individualisme gagne du terrain. Le milieu de travail devient alors un des rares endroits où les gens ont la possibilité d'interagir, de tirer parti de leurs aptitudes et de contribuer à l'atteinte d'objectifs communs en effectuant un travail qui donne un sens à leur vie. En général, le milieu de travail est appelé à prendre de l'importance dans la satisfaction des besoins d'affiliation, d'estime et d'accomplissement des travailleurs.\n",
      "Si les employés ne peuvent combler les attentes qu'ils ont à l'égard de leur emploi et qu'en plus ils doivent soutenir un style de gestion directif, la prévalence du stress lié au travail et la proportion de travailleurs qui souffrent de maladies va augmenter. Cette nouvelle réalité du XXIe siècle donne naissance à un nouveau phénomène psychoprofessionnel intangible, mais grandement nocif pour la santé physique et psychologique des travailleurs. La recherche d'une solution à ce grave problème n'est pas un luxe, mais une réelle nécessité.\n",
      "Dolan, S., García, S. et Richley, B. (2006). Managing by Values: A Corporate Guide to Living, Being Alive and Making a Living in the 21st Century, Londres, Palgrave Macmillan.\n",
      "exerCiCe 1.1 /\n",
      "Évaluez la qualité de votre vie au travail\n",
      "Note globale =\n",
      "Note et interprétation\n",
      "De 24 à 32 points - Vous avez un excellent niveau de qualité de vie au travail.\n",
      "De 12 à 23 points - Vous avez un bon niveau de qualité de vie au travail.\n",
      "De 0 à 11 points - Vous avez un (sérieux) problème de qualité de vie au travail.\n"
     ]
    }
   ],
   "source": [
    "# TODO: Patching out tables on-the-fly until it's done in book_loaders.py\n",
    "chapters = ['\\n'.join(paragraph for paragraph in chapter if isinstance(paragraph, str))\n",
    "            for chapter in book.chapters]\n",
    "print(chapters[1])"
   ]
  },
  {
   "cell_type": "code",
   "execution_count": 8,
   "id": "0f31f442",
   "metadata": {},
   "outputs": [
    {
     "name": "stderr",
     "output_type": "stream",
     "text": [
      "Setting `pad_token_id` to `eos_token_id`:6 for open-end generation.\n",
      "Setting `pad_token_id` to `eos_token_id`:6 for open-end generation.\n",
      "Setting `pad_token_id` to `eos_token_id`:6 for open-end generation.\n",
      "Setting `pad_token_id` to `eos_token_id`:6 for open-end generation.\n",
      "Setting `pad_token_id` to `eos_token_id`:6 for open-end generation.\n",
      "Setting `pad_token_id` to `eos_token_id`:6 for open-end generation.\n"
     ]
    }
   ],
   "source": [
    "summaries = {idx: generate_summary(chapter) for idx, chapter in enumerate(chapters)}"
   ]
  },
  {
   "cell_type": "code",
   "execution_count": 9,
   "id": "8eab0e12",
   "metadata": {},
   "outputs": [
    {
     "name": "stdout",
     "output_type": "stream",
     "text": [
      "{ 0: 'Le monde organisationnel est soumis à des exigences de productivité '\n",
      "     \"historiques, exigences qui demeurent, faut-il l'admettre, complexes à \"\n",
      "     'conjuguer avec une promotion et un soutien de la santé psychologique au '\n",
      "     'travail.',\n",
      "  1: 'Les entreprises qui se rendent compte que leur survie est en jeu se '\n",
      "     \"sentent de plus en plus contraintes d'accroître leur qualité de vie au \"\n",
      "     'travail.',\n",
      "  2: 'Le coin du coach. La notion de stress reste mal comprise du grand '\n",
      "     \"public. Mais qu'est-ce exactement que le stress?\",\n",
      "  3: 'Le stress est un élément normal de notre vie quotidienne. Bien que ce ne '\n",
      "     'soit pas toujours le cas, il est généralement associé à un état négatif '\n",
      "     \"ou à une expérience préjudiciable qu'il faut éliminer à tout prix\",\n",
      "  4: \"La notion d'estime de soi est largement subjective, c'est-à-dire qu'il \"\n",
      "     \"est la résultante d'un processus d'interpré- tation de l'environnement \"\n",
      "     \"par l'individu.\",\n",
      "  5: \"Le stress n'est pas en soi une maladie, et donc aucun remède miracle \"\n",
      "     \"n'existe pour nous en immuniser. Il n'y a pas de panacée ou de formule \"\n",
      "     'universelle de lutte contre le stress.'}\n"
     ]
    }
   ],
   "source": [
    "pp = PrettyPrinter(indent=2)\n",
    "pp.pprint(summaries)\n",
    "# TODO: Investigate how these summaries compare to the references\n",
    "# TODO: Investigate why it's one sentence per summary\n",
    "# TODO: Investigate \"interpré- tation\" in summary of chapter 4"
   ]
  }
 ],
 "metadata": {
  "kernelspec": {
   "display_name": "Python 3 (ipykernel)",
   "language": "python",
   "name": "python3"
  },
  "language_info": {
   "codemirror_mode": {
    "name": "ipython",
    "version": 3
   },
   "file_extension": ".py",
   "mimetype": "text/x-python",
   "name": "python",
   "nbconvert_exporter": "python",
   "pygments_lexer": "ipython3",
   "version": "3.10.5"
  }
 },
 "nbformat": 4,
 "nbformat_minor": 5
}
