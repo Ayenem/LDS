{
 "cells": [
  {
   "cell_type": "markdown",
   "id": "1d01e3ce",
   "metadata": {},
   "source": [
    "## [CamemBERTsum](https://huggingface.co/mrm8488/camembert2camembert_shared-finetuned-french-summarization) fine-tuned on [mlsum-fr](https://huggingface.co/datasets/viewer/?dataset=mlsum)\n",
    "\n",
    "> MLSUM is the first large-scale MultiLingual SUMmarization dataset. Obtained from **online newspapers**, it contains **1.5M+ article/summary pairs** in five different languages -- namely, **French**, German, Spanish, Russian, Turkish.\n",
    "> https://huggingface.co/mrm8488/camembert2camembert_shared-finetuned-french-summarization#dataset\n",
    "\n",
    ">* Size of downloaded dataset files: 591.27 MB\n",
    ">* Size of the generated dataset: 1537.36 MB\n",
    ">* Total amount of disk used: 2128.63 MB\n",
    ">* An example of 'validation' looks as follows.\n",
    ">```json\n",
    "{\n",
    "    \"date\": \"01/01/2001\",\n",
    "    \"summary\": \"A text\",\n",
    "    \"text\": \"This is a text\",\n",
    "    \"title\": \"A sample\",\n",
    "    \"topic\": \"football\",\n",
    "    \"url\": \"https://www.google.com\"\n",
    "}\n",
    ">```\n",
    ">https://huggingface.co/datasets/mlsum#fr"
   ]
  },
  {
   "cell_type": "code",
   "execution_count": 1,
   "id": "cb3927b7",
   "metadata": {},
   "outputs": [],
   "source": [
    "from pathlib import Path\n",
    "import re\n",
    "from tqdm import tqdm\n",
    "\n",
    "import torch\n",
    "from transformers import RobertaTokenizerFast, EncoderDecoderModel\n",
    "\n",
    "from spacy.lang.fr import French\n",
    "\n",
    "from book_loader import BookLoader"
   ]
  },
  {
   "cell_type": "code",
   "execution_count": 2,
   "id": "fd0b56c1",
   "metadata": {},
   "outputs": [
    {
     "name": "stderr",
     "output_type": "stream",
     "text": [
      "/home/ahmedm/anaconda3/envs/LDS/lib/python3.10/site-packages/simplify_docx/iterators/generic.py:193: UnexpectedElementWarning: Skipping unexpected tag: {http://schemas.openxmlformats.org/wordprocessingml/2006/main}pict\n",
      "  warn(\"Skipping unexpected tag: %s\" % (current.tag),\n"
     ]
    }
   ],
   "source": [
    "doc_path = Path(\"data/D5627-Dolan.docx\").expanduser().resolve()\n",
    "\n",
    "start_marker = r\"^Introduction$\"\n",
    "slice_markers = (start_marker, re.compile(r\"^Annexe /$\"))\n",
    "conclusion_marker = r\"^Conclusion$\"\n",
    "compiled_header_marker = re.compile(\n",
    "    rf\"^Chapitre \\d+ /.+\"\n",
    "    rf\"|{start_marker}\"\n",
    "    rf\"|^Stress, santé et performance au travail$\"\n",
    "    rf\"|{conclusion_marker}\")\n",
    "chapter_marker = rf\"^Chapitre \\d+ /$|{conclusion_marker}\"\n",
    "na_span_markers = (\n",
    "        r\"^exerCiCe \\d\\.\\d /$\",\n",
    "        '|'.join([chapter_marker,\n",
    "                  r\"^Les caractéristiques personnelles\\.\",\n",
    "                  r\"/\\tLocus de contrôle$\",\n",
    "                  r\"^L'observation de sujets a amené Rotter\",\n",
    "                  r\"^Lorsqu'une personne souffre de stress\"]))\n",
    "\n",
    "book = BookLoader(doc_path,\n",
    "                  {\"slice_markers\": slice_markers,\n",
    "                   \"chapter_marker\": chapter_marker,\n",
    "                   \"header_marker\": compiled_header_marker,\n",
    "                   \"na_span_markers\": na_span_markers})\n",
    "\n",
    "chapters: list[list[str]] = book.chapters"
   ]
  },
  {
   "cell_type": "code",
   "execution_count": 3,
   "id": "0cfd974a",
   "metadata": {},
   "outputs": [
    {
     "data": {
      "text/plain": [
       "False"
      ]
     },
     "execution_count": 3,
     "metadata": {},
     "output_type": "execute_result"
    }
   ],
   "source": [
    "torch.cuda.is_available()\n",
    "# TODO: Investigate this. Maybe has to do with exe install task you need Samuel for.\n",
    "#       Other solution is to run this directly in WSL as a .py"
   ]
  },
  {
   "cell_type": "code",
   "execution_count": 4,
   "id": "222b0f23",
   "metadata": {},
   "outputs": [
    {
     "name": "stderr",
     "output_type": "stream",
     "text": [
      "The following encoder weights were not tied to the decoder ['roberta/pooler']\n",
      "The following encoder weights were not tied to the decoder ['roberta/pooler']\n"
     ]
    }
   ],
   "source": [
    "device = 'cuda' if torch.cuda.is_available() else 'cpu'\n",
    "ckpt = 'mrm8488/camembert2camembert_shared-finetuned-french-summarization'\n",
    "tokenizer = RobertaTokenizerFast.from_pretrained(ckpt)\n",
    "model = EncoderDecoderModel.from_pretrained(ckpt).to(device)"
   ]
  },
  {
   "cell_type": "code",
   "execution_count": 5,
   "id": "48dafcc1",
   "metadata": {},
   "outputs": [],
   "source": [
    "# model.config.max_length = 64\n",
    "len_out_seq = model.config.max_length\n",
    "def generate_summary(text):\n",
    "    inputs = tokenizer([text], padding=\"max_length\", truncation=True, max_length=512, return_tensors=\"pt\")\n",
    "    input_ids = inputs.input_ids.to(device)\n",
    "    attention_mask = inputs.attention_mask.to(device)\n",
    "    # https://huggingface.co/docs/transformers/main_classes/text_generation\n",
    "    output = model.generate(input_ids,\n",
    "                            attention_mask=attention_mask,\n",
    "                            min_length=len_out_seq * 8,\n",
    "                            max_length=len_out_seq * 8,\n",
    "                            repetition_penalty=0.5,\n",
    "                            num_beams=10)\n",
    "    return tokenizer.decode(output[0], skip_special_tokens=True)"
   ]
  },
  {
   "cell_type": "code",
   "execution_count": 12,
   "id": "b448c98d",
   "metadata": {},
   "outputs": [],
   "source": [
    "nlp = French()\n",
    "nlp.add_pipe(\"sentencizer\")\n",
    "\n",
    "# Remove last sentence as the decoder tends to generate it incompletely\n",
    "def trim(text):\n",
    "    assert isinstance(text, str)\n",
    "    sents = map(str, nlp(text).sents)\n",
    "    all_sents_but_last = list(sents)[:-1]\n",
    "    return '\\n'.join(all_sents_but_last)"
   ]
  },
  {
   "cell_type": "code",
   "execution_count": 13,
   "id": "0f31f442",
   "metadata": {
    "scrolled": false
   },
   "outputs": [
    {
     "name": "stderr",
     "output_type": "stream",
     "text": [
      "\n",
      "\n",
      "0it [00:00, ?it/s]\u001b[A\u001b[ASetting `pad_token_id` to `eos_token_id`:6 for open-end generation.\n",
      "0it [01:26, ?it/s]\n",
      "\n",
      "\n",
      "1it [01:24, 84.20s/it]\u001b[A\u001b[ASetting `pad_token_id` to `eos_token_id`:6 for open-end generation.\n",
      "\n",
      "\n",
      "2it [02:45, 82.45s/it]\u001b[A\u001b[ASetting `pad_token_id` to `eos_token_id`:6 for open-end generation.\n",
      "\n",
      "\n",
      "3it [03:56, 78.83s/it]\u001b[A\u001b[A\n"
     ]
    }
   ],
   "source": [
    "chapters_to_summarize = book.chapters[1: -3] # Chapters 1 to 3 to align with available references\n",
    "\n",
    "chapters_to_summarize = ['\\n'.join(p for p in chapter)\n",
    "                         for chapter in chapters_to_summarize]\n",
    "summaries = {\n",
    "    idx + 1: trim(generate_summary(chapter))\n",
    "    for idx, chapter in tqdm(enumerate(chapters_to_summarize))\n",
    "}"
   ]
  },
  {
   "cell_type": "code",
   "execution_count": 14,
   "id": "2a0ebe9c",
   "metadata": {},
   "outputs": [],
   "source": [
    "# nlp = French()\n",
    "# nlp.add_pipe(\"sentencizer\")\n",
    "\n",
    "# doc = nlp(\"Ceci est une phrase. Ceci en est une autre.\")\n",
    "# sents = list(map(str, doc.sents))\n",
    "# assert len(sents) == 2\n",
    "# sents"
   ]
  },
  {
   "cell_type": "code",
   "execution_count": 15,
   "id": "e568e470",
   "metadata": {
    "scrolled": false
   },
   "outputs": [
    {
     "name": "stdout",
     "output_type": "stream",
     "text": [
      "CHAPTER 1:\n",
      "\n",
      "Le coin du coach.\n",
      "L'amélioration de l'efficience organisationnelle nécessite de considérer la qualité de vie et la santé psychologique au travail comme des leviers de maximisation de la performance.\n",
      "Or trois facteurs ont, entre autres, rapidement transformé cette réalité, et non comme des antagonistes naturels.\n",
      "Or, Le L'''C''s'Cen's, l'avenir du travail, est de plus en plus besoin de nouvelles approches managériales permettant de rehausser du même coup leur qualité et leur productivité.\n",
      "Or Or, la main-d'œuvre, force est en effet nécessaire pour l'organisation, estime l'entreprise est en train de s'affranchir de la concurrence mondiale et de la capacité concurrentielle.\n",
      "Or la capacité de vie au travail au travail et de leur productivité, comme l'ensemble de leur travail.\n",
      "Or cette quête de la productivité est maintenant nécessaire pour simplement assurer la pérennité de leur capacité de travail.\n",
      "Le travail, au-delà de la force concurrentielle, s'il faut s'appuyer sur la capacité des travailleurs, de même nature qu'il est nécessaire pour assurer leur pérennité.\n",
      "de même qu'en effet, il s'agit d'améliorer la productivité et la capacité du travail et du bien-être au travail, d'en maîtriser la productivité, de la santé et des autres facteurs de travail, et d'Discuter sur des changements technologiques.\n",
      "Discuter des changements organisationnels permettant d'entreprise s'avèrera nécessaire pour qu'elle cesse d'être l'objet d'un effet de la compétition mondiale.\n",
      "Or Le Le Monde Le Monde s'interroge, dans une tribune du \"Monde des coachs en entreprise, sur l'évolution de la qualité et de cette capacité capacité à s'en sortir de même coup coup coup de fouet à la fois.\n",
      "-------------------------------------\n",
      "CHAPTER 2:\n",
      "\n",
      "Le coin du coach.\n",
      "Une grande partie du stress que les gens ressentent ne vient pas d'avoir trop à faire, il vient de ne pas finir ce qu'ils ont commencé.\n",
      "Le mot stress est familier à la plupart d'entre nous.\n",
      "Presque tout le monde s'est déjà senti « stressé ».\n",
      "Le Le stress s'ajoute à d'autres symptômes que l'on associait naguère à la paresse, au manque de capacités ou de volonté.\n",
      "Le sens donné au stress peut varier d'une personne à l'autre et que cette personnalisation du concept est vraisemblablement appelée à le sentir, à le comprendre et à le gérer et le faire comprendre et de le gérer, gérer, comprendre et le gérer.\n",
      "La notion de stress est appelée à se perpétuer.\n",
      "La société commence alors à comprendre toute l'importance qu'il occasionner aux organisations et l'ampleur des pertes économiques qu'on ressent, il est important d'être « stressé » ou a des amis ou des amis qui se plaignent de temps à autre de vivre trop de stress au cours de sa vie, et que ce phénomène est alors appelé à s'exprimer.\n",
      "Le concept est donc appelé à comprendre, à comprendre et, comme ce fut le manque de capacité et de volonté, alors que nous nous ressentons aux autres et que nous ne nous motdridrions aux pertes économiques.\n",
      "nous en sommes donc à comprendre cette notion, en précisant toutefois que la notion de « stress » et le concept de la gestion du stress au travail, et donc, nous ne sommes pas à ce stade de l'.\n",
      "La toute personnalisation de ce qui vient de nous nous enons d' nous-même.\n",
      "nous sommes donc donc en train de ne plus finir ce que nous en avons commencé ce que que nous avons commencé, nous nous avons appelé la notion du stress, comme comme ce que le mot mot « stress est susceptible de nous perpétuer, comme il vient à nous nous faire perpétuer ou de le comprendre.\n",
      "Le coin coin de la vie, il ne peut être appelé à le le comprendre, et le sens sens sens d', comprendre que le stress, nous avons besoin besoin besoin au moment où nous nous dit et nous l', à ce moment où l' nous nous touche.\n",
      "nous vivons à une époque particulièrement appelée à comprendre une personnalisation d'un moment où il s'il est important à se sentir sentir et de les sentir sentir, nous, nous sommes à la fois.\n",
      "-------------------------------------\n",
      "CHAPTER 3:\n",
      "\n",
      "Le coin du coach.\n",
      "Le stress est un élément normal de notre vie quotidienne.\n",
      "Bien que ce ne soit pas toujours le cas, il est généralement associé à un état négatif ou à une expérience préjudiciable qu'il faut éliminer à tout prix, ce qui entraîne des consé-quences sur son état physique Le Le Monde Le magazine du Monde, à l'occasion de l'événement O21 / s'orienter au 21e siècle à s'inscrire dans un « U » inversé, à un stress optimal ou à des caractéristiques organisationnelles, l'individu peut estimer que ses ressources, personnelles et professionnelles, sont insuffisantes afin d'adéquax 21e Forum « Le Monde » s'inscrit dans une perspective générale, qui alimente des notions telles que le manque de travail qui prend la forme d'un stress ou d'une expérience préjudiciable que la personne devrait accomplir pour s'adapter à la situation, explique, dans une tribune au « Monde », que la seule façon de produire un rendement, de générer un niveau d'ennui et une perte de sens chez l'asserasser ses ressources ou ses compétences, c'est l'accablement qui explique qu'elle est incontrôlée ou incontrôlable, dans ce cas-là, de ne pas produire un niveau modéré de stimulation de la relation entre le milieu (sous-stimulation, incontrcontrulation ou incontrôlable).:00,r l'activité que la stimulation est élevée, la personne a aussi un rendement faible, et ses compétences ne sont pas suffisantes pour produire des rendements optimaux.\n",
      "-------------------------------------\n"
     ]
    }
   ],
   "source": [
    "for chap_idx, summ in summaries.items():\n",
    "    print(f\"CHAPITRE {chap_idx}:\\n\")\n",
    "    print(summ)\n",
    "#     for sent in nlp(summ).sents:\n",
    "#         print(f\"{sent}\\n\")\n",
    "    print(\"-------------------------------------\")\n",
    "\n",
    "# Note: Summaries seem to be hybrid (ext and abs) and lean towards extracting leading spans\n",
    "\n",
    "# TODO: Write these out to a file in a format that would facilitate ROUGE evaluation\n",
    "# TODO: Write a \"evaluation.ipynb\""
   ]
  }
 ],
 "metadata": {
  "kernelspec": {
   "display_name": "Python 3 (ipykernel)",
   "language": "python",
   "name": "python3"
  },
  "language_info": {
   "codemirror_mode": {
    "name": "ipython",
    "version": 3
   },
   "file_extension": ".py",
   "mimetype": "text/x-python",
   "name": "python",
   "nbconvert_exporter": "python",
   "pygments_lexer": "ipython3",
   "version": "3.10.5"
  }
 },
 "nbformat": 4,
 "nbformat_minor": 5
}
