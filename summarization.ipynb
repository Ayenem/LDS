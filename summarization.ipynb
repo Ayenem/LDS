{
 "cells": [
  {
   "cell_type": "markdown",
   "id": "1d01e3ce",
   "metadata": {},
   "source": [
    "## [CamemBERTsum](https://huggingface.co/mrm8488/camembert2camembert_shared-finetuned-french-summarization) fine-tuned on [mlsum-fr](https://huggingface.co/datasets/viewer/?dataset=mlsum)\n",
    "\n",
    "> MLSUM is the first large-scale MultiLingual SUMmarization dataset. Obtained from **online newspapers**, it contains **1.5M+ article/summary pairs** in five different languages -- namely, **French**, German, Spanish, Russian, Turkish.\n",
    "> https://huggingface.co/mrm8488/camembert2camembert_shared-finetuned-french-summarization#dataset\n",
    "\n",
    ">* Size of downloaded dataset files: 591.27 MB\n",
    ">* Size of the generated dataset: 1537.36 MB\n",
    ">* Total amount of disk used: 2128.63 MB\n",
    ">* An example of 'validation' looks as follows.\n",
    ">```json\n",
    "{\n",
    "    \"date\": \"01/01/2001\",\n",
    "    \"summary\": \"A text\",\n",
    "    \"text\": \"This is a text\",\n",
    "    \"title\": \"A sample\",\n",
    "    \"topic\": \"football\",\n",
    "    \"url\": \"https://www.google.com\"\n",
    "}\n",
    ">```\n",
    ">https://huggingface.co/datasets/mlsum#fr"
   ]
  },
  {
   "cell_type": "code",
   "execution_count": 1,
   "id": "cb3927b7",
   "metadata": {},
   "outputs": [],
   "source": [
    "from pathlib import Path\n",
    "\n",
    "import torch\n",
    "from transformers import RobertaTokenizerFast, EncoderDecoderModel\n",
    "\n",
    "from book_loader import BookLoader"
   ]
  },
  {
   "cell_type": "code",
   "execution_count": 2,
   "id": "fd0b56c1",
   "metadata": {},
   "outputs": [
    {
     "name": "stderr",
     "output_type": "stream",
     "text": [
      "/home/ahmedm/anaconda3/envs/LDS/lib/python3.10/site-packages/simplify_docx/iterators/generic.py:193: UnexpectedElementWarning: Skipping unexpected tag: {http://schemas.openxmlformats.org/wordprocessingml/2006/main}pict\n",
      "  warn(\"Skipping unexpected tag: %s\" % (current.tag),\n"
     ]
    }
   ],
   "source": [
    "data_path = Path(\"data/D5627-Dolan.docx\").expanduser().resolve()\n",
    "\n",
    "start_marker = r\"^Introduction$\"\n",
    "compiled_header_marker = (rf\"(?:^Chapitre \\d+ /.+\"\n",
    "                          rf\"|{start_marker}\"\n",
    "                          rf\"|^Stress, santé et performance au travail$)\")\n",
    "chapter_marker = r\"^Chapitre (\\d+) /$\"\n",
    "na_span_markers = (\n",
    "    r\"^exerCiCe \\d\\.\\d /$\",\n",
    "    '|'.join([chapter_marker,\n",
    "              r\"^Les caractéristiques personnelles\\.\",\n",
    "              r\"/\\tLocus de contrôle$\",\n",
    "              r\"^L'observation de sujets a amené Rotter\",\n",
    "              r\"^Lorsqu'une personne souffre de stress\"]))\n",
    "\n",
    "book = BookLoader(data_path,\n",
    "                  {\"start_marker\": start_marker,\n",
    "                   \"end_marker\": r\"^Annexe /$\",\n",
    "                   \"chapter_marker\": chapter_marker,\n",
    "                   \"header_marker\": compiled_header_marker,\n",
    "                   \"ps_marker\": r\"^Conclusion$\",\n",
    "                   \"na_span_markers\": na_span_markers})\n",
    "\n",
    "chapters: list[list[str]] = book.chapters"
   ]
  },
  {
   "cell_type": "code",
   "execution_count": 3,
   "id": "0cfd974a",
   "metadata": {},
   "outputs": [
    {
     "data": {
      "text/plain": [
       "False"
      ]
     },
     "execution_count": 3,
     "metadata": {},
     "output_type": "execute_result"
    }
   ],
   "source": [
    "torch.cuda.is_available()\n",
    "# TODO: Investigate this. Maybe has to do with exe install task you need Samuel for.\n",
    "#       Other solution is to run this directly in WSL as a .py"
   ]
  },
  {
   "cell_type": "code",
   "execution_count": 4,
   "id": "222b0f23",
   "metadata": {},
   "outputs": [
    {
     "name": "stderr",
     "output_type": "stream",
     "text": [
      "The following encoder weights were not tied to the decoder ['roberta/pooler']\n",
      "The following encoder weights were not tied to the decoder ['roberta/pooler']\n"
     ]
    }
   ],
   "source": [
    "device = 'cuda' if torch.cuda.is_available() else 'cpu'\n",
    "ckpt = 'mrm8488/camembert2camembert_shared-finetuned-french-summarization'\n",
    "tokenizer = RobertaTokenizerFast.from_pretrained(ckpt)\n",
    "model = EncoderDecoderModel.from_pretrained(ckpt).to(device)"
   ]
  },
  {
   "cell_type": "code",
   "execution_count": 5,
   "id": "48dafcc1",
   "metadata": {},
   "outputs": [],
   "source": [
    "def generate_summary(text):\n",
    "    inputs = tokenizer([text], padding=\"max_length\", truncation=True, max_length=512, return_tensors=\"pt\")\n",
    "    input_ids = inputs.input_ids.to(device)\n",
    "    attention_mask = inputs.attention_mask.to(device)\n",
    "    output = model.generate(input_ids, attention_mask=attention_mask)\n",
    "    return tokenizer.decode(output[0], skip_special_tokens=True)"
   ]
  },
  {
   "cell_type": "code",
   "execution_count": 6,
   "id": "36ea869a",
   "metadata": {},
   "outputs": [],
   "source": [
    "chapters = ['\\n'.join(p for p in chapter) for chapter in book.chapters]"
   ]
  },
  {
   "cell_type": "code",
   "execution_count": 7,
   "id": "0f31f442",
   "metadata": {
    "scrolled": false
   },
   "outputs": [
    {
     "name": "stderr",
     "output_type": "stream",
     "text": [
      "Setting `pad_token_id` to `eos_token_id`:6 for open-end generation.\n",
      "Setting `pad_token_id` to `eos_token_id`:6 for open-end generation.\n",
      "Setting `pad_token_id` to `eos_token_id`:6 for open-end generation.\n",
      "Setting `pad_token_id` to `eos_token_id`:6 for open-end generation.\n",
      "Setting `pad_token_id` to `eos_token_id`:6 for open-end generation.\n",
      "Setting `pad_token_id` to `eos_token_id`:6 for open-end generation.\n",
      "Setting `pad_token_id` to `eos_token_id`:6 for open-end generation.\n"
     ]
    }
   ],
   "source": [
    "summaries = {idx: generate_summary(chapter) for idx, chapter in enumerate(chapters)}"
   ]
  },
  {
   "cell_type": "code",
   "execution_count": 8,
   "id": "e568e470",
   "metadata": {},
   "outputs": [
    {
     "name": "stdout",
     "output_type": "stream",
     "text": [
      "Chapter 0:\n",
      "Le monde organisationnel est soumis à des exigences de productivité historiques, exigences qui demeurent, faut-il l'admettre, complexes à concilier avec une promotion et un soutien de la santé psychologique au travail.\n",
      "\n",
      "Chapter 1:\n",
      "Le coin du coach. Si la main-d'œuvre, mieux formée qu'auparavant, cherche à maîtriser son travail par la participation.\n",
      "\n",
      "Chapter 2:\n",
      "Une grande partie du stress que les gens ressentent ne vient pas d'avoir trop à faire, il vient de ne pas finir ce qu'ils ont commencé.\n",
      "\n",
      "Chapter 3:\n",
      "Le stress est un élément normal de notre vie quotidienne. Bien que ce ne soit pas toujours le cas, il est généralement associé à un état négatif ou à une expérience préjudiciable qu'il faut éliminer à tout prix.\n",
      "\n",
      "Chapter 4:\n",
      "Le coin du coach. Le lecteur pourrait être surpris de voir au cœur d'un livre sur le stress professionnel un chapitre entier consacré à la notion d'estime de soi. Effectivement, nul ne peut entièrement contrôler l'émergence de situations potentiellement stressogènes dans son environnement et les caractéristiques de la personne qui\n",
      "\n",
      "Chapter 5:\n",
      "Le stress n'est pas une maladie, et donc aucun remède miracle n'existe pour nous en immuniser afin d'en atténuer les conséquences.\n",
      "\n",
      "Chapter 6:\n",
      "Le stress n'est pas un phénomène simple à diagnostiquer ni à gérer. Il demeure omni­présent dans la vie quotidienne, mais aussi dans les organisations.\n",
      "\n"
     ]
    }
   ],
   "source": [
    "for chap_idx, summ in summaries.items():\n",
    "    print(f\"Chapter {chap_idx}:\\n{summ}\\n\")\n",
    "\n",
    "# TODO: Investigate how these summaries compare to the references\n",
    "# TODO: Investigate why it's one sentence per summary"
   ]
  }
 ],
 "metadata": {
  "kernelspec": {
   "display_name": "Python 3 (ipykernel)",
   "language": "python",
   "name": "python3"
  },
  "language_info": {
   "codemirror_mode": {
    "name": "ipython",
    "version": 3
   },
   "file_extension": ".py",
   "mimetype": "text/x-python",
   "name": "python",
   "nbconvert_exporter": "python",
   "pygments_lexer": "ipython3",
   "version": "3.10.5"
  }
 },
 "nbformat": 4,
 "nbformat_minor": 5
}
