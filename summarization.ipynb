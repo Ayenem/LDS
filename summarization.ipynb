{
 "cells": [
  {
   "cell_type": "markdown",
   "id": "1d01e3ce",
   "metadata": {},
   "source": [
    "## [CamemBERTsum](https://huggingface.co/mrm8488/camembert2camembert_shared-finetuned-french-summarization) fine-tuned on [mlsum-fr](https://huggingface.co/datasets/viewer/?dataset=mlsum)\n",
    "\n",
    "> MLSUM is the first large-scale MultiLingual SUMmarization dataset. Obtained from **online newspapers**, it contains **1.5M+ article/summary pairs** in five different languages -- namely, **French**, German, Spanish, Russian, Turkish.\n",
    "> https://huggingface.co/mrm8488/camembert2camembert_shared-finetuned-french-summarization#dataset\n",
    "\n",
    ">* Size of downloaded dataset files: 591.27 MB\n",
    ">* Size of the generated dataset: 1537.36 MB\n",
    ">* Total amount of disk used: 2128.63 MB\n",
    ">* An example of 'validation' looks as follows.\n",
    ">```json\n",
    "{\n",
    "    \"date\": \"01/01/2001\",\n",
    "    \"summary\": \"A text\",\n",
    "    \"text\": \"This is a text\",\n",
    "    \"title\": \"A sample\",\n",
    "    \"topic\": \"football\",\n",
    "    \"url\": \"https://www.google.com\"\n",
    "}\n",
    ">```\n",
    ">https://huggingface.co/datasets/mlsum#fr"
   ]
  },
  {
   "cell_type": "code",
   "execution_count": 1,
   "id": "cb3927b7",
   "metadata": {},
   "outputs": [],
   "source": [
    "from pathlib import Path\n",
    "\n",
    "import torch\n",
    "from transformers import RobertaTokenizerFast, EncoderDecoderModel\n",
    "\n",
    "from book_loader import BookLoader"
   ]
  },
  {
   "cell_type": "code",
   "execution_count": 2,
   "id": "fd0b56c1",
   "metadata": {},
   "outputs": [
    {
     "name": "stderr",
     "output_type": "stream",
     "text": [
      "/home/ahmedm/anaconda3/envs/LDS/lib/python3.10/site-packages/simplify_docx/iterators/generic.py:193: UnexpectedElementWarning: Skipping unexpected tag: {http://schemas.openxmlformats.org/wordprocessingml/2006/main}pict\n",
      "  warn(\"Skipping unexpected tag: %s\" % (current.tag),\n"
     ]
    }
   ],
   "source": [
    "data_path = Path(\"data/D5627-Dolan.docx\").expanduser().resolve()\n",
    "\n",
    "start_marker = r\"^Introduction$\"\n",
    "compiled_header_marker = (rf\"(?:^Chapitre \\d+ /.+\"\n",
    "                          rf\"|{start_marker}\"\n",
    "                          rf\"|^Stress, santé et performance au travail$)\")\n",
    "chapter_marker = r\"^Chapitre (\\d+) /$\"\n",
    "na_span_markers = (\n",
    "    r\"^exerCiCe \\d\\.\\d /$\",\n",
    "    '|'.join([chapter_marker,\n",
    "              r\"^Les caractéristiques personnelles\\.\",\n",
    "              r\"/\\tLocus de contrôle$\",\n",
    "              r\"^L'observation de sujets a amené Rotter\",\n",
    "              r\"^Lorsqu'une personne souffre de stress\"]))\n",
    "\n",
    "book = BookLoader(data_path,\n",
    "                  {\"start_marker\": start_marker,\n",
    "                   \"end_marker\": r\"^Annexe /$\",\n",
    "                   \"chapter_marker\": chapter_marker,\n",
    "                   \"header_marker\": compiled_header_marker,\n",
    "                   \"ps_marker\": r\"^Conclusion$\",\n",
    "                   \"na_span_markers\": na_span_markers})\n",
    "\n",
    "chapters: list[list[str]] = book.chapters"
   ]
  },
  {
   "cell_type": "code",
   "execution_count": 3,
   "id": "0cfd974a",
   "metadata": {},
   "outputs": [
    {
     "data": {
      "text/plain": [
       "False"
      ]
     },
     "execution_count": 3,
     "metadata": {},
     "output_type": "execute_result"
    }
   ],
   "source": [
    "torch.cuda.is_available()\n",
    "# TODO: Investigate this. Maybe has to do with exe install task you need Samuel for.\n",
    "#       Other solution is to run this directly in WSL as a .py"
   ]
  },
  {
   "cell_type": "code",
   "execution_count": 4,
   "id": "222b0f23",
   "metadata": {},
   "outputs": [
    {
     "name": "stderr",
     "output_type": "stream",
     "text": [
      "The following encoder weights were not tied to the decoder ['roberta/pooler']\n",
      "The following encoder weights were not tied to the decoder ['roberta/pooler']\n"
     ]
    }
   ],
   "source": [
    "device = 'cuda' if torch.cuda.is_available() else 'cpu'\n",
    "ckpt = 'mrm8488/camembert2camembert_shared-finetuned-french-summarization'\n",
    "tokenizer = RobertaTokenizerFast.from_pretrained(ckpt)\n",
    "model = EncoderDecoderModel.from_pretrained(ckpt).to(device)"
   ]
  },
  {
   "cell_type": "code",
   "execution_count": 7,
   "id": "bfff6c42",
   "metadata": {},
   "outputs": [],
   "source": [
    "chapters = ['\\n'.join(p for p in chapter) for chapter in book.chapters[1: -1]]"
   ]
  },
  {
   "cell_type": "code",
   "execution_count": 41,
   "id": "48dafcc1",
   "metadata": {},
   "outputs": [],
   "source": [
    "# model.config.max_length = 64\n",
    "len_out_seq = model.config.max_length\n",
    "def generate_summary(text):\n",
    "    inputs = tokenizer([text], padding=\"max_length\", truncation=True, max_length=512, return_tensors=\"pt\")\n",
    "    input_ids = inputs.input_ids.to(device)\n",
    "    attention_mask = inputs.attention_mask.to(device)\n",
    "    # https://huggingface.co/docs/transformers/main_classes/text_generation\n",
    "    output = model.generate(input_ids,\n",
    "                            attention_mask=attention_mask,\n",
    "                            min_length=len_out_seq * 8,\n",
    "                            max_length=len_out_seq * 8,\n",
    "                            repetition_penalty=0.9,\n",
    "                            num_beams=10)\n",
    "    return tokenizer.decode(output[0], skip_special_tokens=True)"
   ]
  },
  {
   "cell_type": "code",
   "execution_count": 42,
   "id": "0f31f442",
   "metadata": {
    "scrolled": false
   },
   "outputs": [
    {
     "name": "stderr",
     "output_type": "stream",
     "text": [
      "Setting `pad_token_id` to `eos_token_id`:6 for open-end generation.\n",
      "Setting `pad_token_id` to `eos_token_id`:6 for open-end generation.\n",
      "Setting `pad_token_id` to `eos_token_id`:6 for open-end generation.\n",
      "Setting `pad_token_id` to `eos_token_id`:6 for open-end generation.\n",
      "Setting `pad_token_id` to `eos_token_id`:6 for open-end generation.\n"
     ]
    }
   ],
   "source": [
    "summaries = {idx + 1: generate_summary(chapter) for idx, chapter in enumerate(chapters)}"
   ]
  },
  {
   "cell_type": "code",
   "execution_count": 43,
   "id": "e568e470",
   "metadata": {},
   "outputs": [
    {
     "name": "stdout",
     "output_type": "stream",
     "text": [
      "Chapter 1:\n",
      "Le coin du coach. L'amélioration de l'efficience organisationnelle nécessite de considérer la qualité de vie et la santé psychologique au travail comme des leviers de maximisation de la performance. Or trois facteurs ont, entre autres, rapidement transformé cette réalité : l'allongement des cycles de récession ; la Le Revue Revue St St Stimhihihi (voir l'esprit du coin) et l'irruption de nouvelles approches managériales sur le plan de la productivité, et non comme des antagonistes naturels. Or, la main-d'œuvre, les organisations, se sentent de plus en plus contraintes d'accroître leur productivité. Or Or qu'il n'y a-t-il la nécessité de rehausser du même coup que l'entreprise. Or l'ensemble de la collectivité et sur la capacité concurrentielle. Or donc, c'est la nécessité d'améliorer la productivité et la capacité capacité à maîtriser son travail par la participation des travailleurs, les conditions conditions de travail, l'évolution démographique et le bien-être au travail et leur productivité d'ici à l'organisation et de la capacité du travail. Or que les travailleurs ne doivent plus être considérés comme les rouages d'une mécanique de production ; les progrès technologiques et le dynamisme de la formation. Il est urgent de s'interroger sur l'importance d'Discuter sur le niveau de vie.Discutez-nous ce que j'entends, je comprends ce que je fais en tant tant que salarié, et donc, nous sommes en train de se remettre à la place de la l'0€. St St st St Sty ( (qui s'interroge sur la notion d'appréciation de la valeur de la vie et de sa capacité de travail.Discuter ce qu'on ne fait pas encore comme un antagoniste, naturels ou non, nous ne voulons plus être considérer comme un rouage d'aujourd'hui notre capacité de vivre au travail au travail sans compromettre la productivité de l l'essentiel d'y parvenir, il ne faut-il en effet d'displaystyler notre temps de vie au travail.displaystylez-vous-même, il faut donc qu'ils sont donc comme un obstacle à la productivité.:00, que je ne veux plus être considéré comme l'Discuteur d'marsavrr de même coup coup coup de fouet. Il faut donc que notre système de travail en lui-même (l'entreprise, il n'être l'avant-garde de nos capacités de travail et de notre capacité d'\n",
      "\n",
      "Chapter 2:\n",
      "Une grande partie du stress que les gens ressentent ne vient pas d'avoir trop à faire, il vient de ne pas finir ce qu'ils ont commencé. La société commence à peine à comprendre toute l'importance qu'exerce le stress sur la santé publique et l'ampleur des pertes économiques qu'il.. St St Johann Johann Johanner, professeur à l'université de Johannesburg ( Johann Johannes), nous rappelle que la notion de stress est devenue une priorité pour un bon nombre d'entreprises qui se disent « stressé » ou a des proches ou des amis qui se plaignent de temps à autre de vivre trop de stress au cours de l'hiver. Il est important d'apprendre à le reconnaître, à le comprendre et à le gérer, et que cette personnalisation du concept est vraisemblablement appelée à se perpétuer. La notion du stress est alors alors que nous vivons à une époque particulièrement stressante. Mais qu'est-ce exactement que nous nousssons d'il occasionne la paresse, au manque de capacité ou de volonté ou de vouloir le maîtriser, explique, dans une tribune au \"Monde\" de la gestion du stress au travail. Il demeure mal comprise du grand public. Il reste à apprendre à le vivre, et il demeure possible de le vivre et de le gérer et d'en le maîtriser et de la faire perdurer et que ce phénomène peut varier d'une personne, qui se traduit par une définition générale, en précisant toutefois toutefois que ce concept est susceptible d'évoluer, explique-t-il d'y penser. St st st st St st St St StSt St Styn (Université d' Johann Johannt-Zerner (ZZZ (Z- Johann Johann-Zamam (qui nous nous a fait subir une dose plus ou moins forte de stress. Il n'en est pas moins qu'erer exactement à partir d'un moment à cause cause de nos pertes économiques. Il s'il s'mmentmment nécessaire de s'en remettre à le le comprendre. nous en sommes aujourd'hui que nous l' nous-même appelée à le définir et que l'on ressent, à partir de moments moments à autre autre de ce que notre stress est susceptible de nous nous touche, estime-il qu'on ne nous touche à nous-mêmes et qu'en nous nous en souvenir et de les gérer et de se souvenir. notre capacité à le gère, estime que ce qui n'est pas toujours d' nous nous\n",
      "\n",
      "Chapter 3:\n",
      "Le coin du coach. Le stress est un élément normal de notre vie quotidienne. Bien que ce ne soit pas toujours le cas, il est généralement associé à un état négatif ou à une expérience préjudiciable qu'il faut éliminer à tout prix. La seule façon de produire un rendement élevé est de générer un niveau modéré ( ( Aujourd Aujourd'hui Aujourd’huihui (huihui, aujourd'hui) de la relation entre le milieu (sous-stimulation) et les caractéristiques organisationnelles, c'est l'accablement qui prend la forme d'un « U » inversé (que la stimulation est un « U) inversé (figure d'hui(huihuihui) à jour (figure 3), c'hui, ce qui entraîne des conporulations d'intensité moyenne, incontrôlée ou incontrôlable(s) qui engendre des consé-quences sur son état physique et psychologique. Il y a une inhibition de l'action que la personne devrait accomplir pour s'y adapter à la situation d') de façon générale, explique l'individu peut estimer que ses ressources, personnelles et professionnelles, sont insuffisantes afin d'). Or, il faut alors envisager un niveau de stimulation du milieu (s'hui et aujourd'). Il faut donc envisager l'ensemble de nos ressources, donc les compétences, donc ses compétences, elles-mêmes, doivent être évaluées par le milieu, sous peine de perdre de la sens chez l', explique Pierre-Yves Marc, président de la Fédération des économistes du monde (Fed), explique Le Le meilleur Il de la Maison Maison (Fhierhier à Paris, à la veille de la conférence Le Monde Festival Festival de la photographie (Fondoscope) et le rendement, qui se déroule à partir de la semaine suivante, à partir du moment où il est question de la condition condition de la bonne humeur (d'hui à la recherche de la croissance, qui a l' ici ( (le Monde) à l' etc.). ici, le coin coin du travail. Il est possible d' ici ici, où il y a aussi un effort effort d' (trop de sens sens de la rencontre entre le stress. ici que la stimulation de Yerkes-Dobson). ici qu'hui de la recherche et de ses capacités capacités, à condition qu' ici, dans sa chronique (Le Monde.fr). ici que les ressources humaines et professionnelle (et professionnelles (et les compétences de la personne qui\n",
      "\n",
      "Chapter 4:\n",
      "Le coin du coach. Le lecteur pourrait être surpris de voir au cœur d'un livre sur le stress professionnel un chapitre entier consacré à la notion d'estime de soi. effectivement, nul ne peut entièrement contrôler l'émergence de situations potentiellement stressogènes dans son environnement et les caractéristiques de sa personnalité. Nous Nous Nous Aujourd Aujourd Aujourd'hui Nous l'attendront, nous nous att attardons à penser qu'il n'y a pas de doute sur l'importance du stress dans l'environnement et l'assimilation de ce genre de situations, et qui ne relèvent habituellement que peu de la volonté de la personne qui l'accueil accueille et nous nous en ironironironir sur la teneur des événements de la vie ou du travail, ce qui est la résultante d'une personne qui vit ces événements et qui n'est pas hors de la portée du contexte individuel par l'individu d'individus que pour se convaincre de sa propre valeur valeur valeur, explique le coin coin coin de l'esprit et sur le fait que l'on n'en est pas moins de nature nature et non l'incontrôlabilité, c'est-à-dire l'imprévisibilité, l'ambiguïté ou la nouveauté sont autant de caractéristiques d'iciici que sur la volonté d'y résister à l'issue de ce qui nous paraît inopinément, et donc d'autres événements de ce type, qui ne relève habituellement que d' nous-même, explique l'auteur de \"L'Inestima, estrésyyy Aujourd Aujourd aujourd Aujourd aujourd'hui, nous l'asserons à la veille d'aujourd'hui à ce qui s'est passé dans nos existences et nous ne sommes pas à la portée des événements qui surviennent dans notre environnement et des caractéristiques des événements ou qui ne se sont pas encore de laintention intention de la seule personne qui nous nousexprime, estime qu'on les les guette. Nous nous ironrons-nous-ils eux-mêmes, nous en sommes sûrs qu'ils sont hors de notre portée du contrôle individuel.aoûtseptons-nous pas en mesure de notre propre valeur.:00,z-vous-vous que nous nous contractons, nous, nous sommes de plus en plus de la nature nature de soi, estime-t-il de nous nous insu insu insuérés à notre notre capacité à nous-mêmes.:00,, nous les sommes à ce stade de nos vies ou non.\n",
      "\n",
      "Chapter 5:\n",
      "Le stress n'est pas en soi une maladie, et donc aucun remède miracle n'existe pour nous en immuniser afin d'en atténuer les conséquences. Il n'y a pas de panacée ou de formule universelle de lutte contre le stress au travail. C'est pourquoi nous devons apprendre Le Le souvenir du moment où l'on n'a pas l'esprit à l'endroit où il faut s'y atterer, nous rappeler qu'un nombre toujours croissant de travailleurs est affecté par des problèmes associés au stress. Nous devons apprendre à prévenir le stress ou, du moins, à le gérer afin qu'il s'apirir. Il est nécessaire que nos connaissances connaissances et les connaissances sont nécessaires à notre organisme comme pour l'organisation. Il faut donc que toutes les parties intéressées n'ont jamais été aussi avancés qu'ils le sont maintenant. Or, il n'enrons pas les conséquences nocives, explique l'ancien directeur général de l'Organisation de coopération et de la santé mentale au travail, explique le professeur de la recherche en entreprise. Or c'est la connaissance est un gage d'éradication d'un stress, estime le professeur Jean-Yves Marc, directeur général d'IBIB, l'un des plus grands employeurs de la planète. nos connaissances sont insuffisantes, estime-t-il que les connaissances sur les causes et les conséquences du stress ont besoin d'être prises en main. nos savoirs sur le stress et la santé psychologique au travail n'arrivent plus à nous en en imm imm immvit. St St Strril. Il s'il faut qu'on ne s'en souvenir d'eux-même, et que l' nos connaissances sur nos origines et nos conséquences ont été démontrées par la recherche de la cause du stress pour mieux en immimmuniser les conséquences de notre stress. Il ne faut donc qu'en l'endiguer, estime que qu'mmentmmentmment qu'elle est nécessaire qu'oeuvrer, il est nécessaire à notre organisation, estime l'entreprise, insiste qu'elles sont un facteur d'séradications ne sont pas encore trop tard, et non plus que les causes causes et ses conséquences ne sont plus plus graves pour les individus comme nous l'Association de la Banque mondiale de la Fédération des entreprises (Fond'd'Amérique du travail, dont l'ronsrons de plus en plus besoin de la connaissance et que les progrès de la maladie sont\n",
      "\n"
     ]
    }
   ],
   "source": [
    "for chap_idx, summ in summaries.items():\n",
    "    print(f\"Chapter {chap_idx}:\\n{summ}\\n\")\n",
    "\n",
    "# Note: Summaries seem to be hybrid (ext and abs) and lean towards extracting\n",
    "#       the leading spans"
   ]
  }
 ],
 "metadata": {
  "kernelspec": {
   "display_name": "Python 3 (ipykernel)",
   "language": "python",
   "name": "python3"
  },
  "language_info": {
   "codemirror_mode": {
    "name": "ipython",
    "version": 3
   },
   "file_extension": ".py",
   "mimetype": "text/x-python",
   "name": "python",
   "nbconvert_exporter": "python",
   "pygments_lexer": "ipython3",
   "version": "3.10.5"
  }
 },
 "nbformat": 4,
 "nbformat_minor": 5
}
